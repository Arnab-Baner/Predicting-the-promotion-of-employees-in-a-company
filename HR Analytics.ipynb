{
 "cells": [
  {
   "cell_type": "markdown",
   "metadata": {},
   "source": [
    "### Project Goal: The goal of the project is to the understand the impact of different variables on the promotion of an employee in an organization and build a predictive model for the same"
   ]
  },
  {
   "cell_type": "markdown",
   "metadata": {},
   "source": [
    "#### Importing the libraries"
   ]
  },
  {
   "cell_type": "code",
   "execution_count": 99,
   "metadata": {},
   "outputs": [],
   "source": [
    "import numpy as np\n",
    "import pandas as pd\n",
    "import matplotlib.pyplot as plt\n",
    "import seaborn as sb\n",
    "import os\n",
    "from matplotlib.pylab import rcParams\n",
    "from sklearn.model_selection import GridSearchCV\n",
    "rcParams['figure.figsize'] = 20,8\n",
    "os.chdir(\"C://Users//Arnab//Desktop//Competitions//HR Analytics\")"
   ]
  },
  {
   "cell_type": "markdown",
   "metadata": {},
   "source": [
    "#### Importing the datasets"
   ]
  },
  {
   "cell_type": "code",
   "execution_count": 2,
   "metadata": {},
   "outputs": [],
   "source": [
    "train = pd.read_csv(\"train.csv\")\n",
    "test = pd.read_csv(\"test.csv\")"
   ]
  },
  {
   "cell_type": "markdown",
   "metadata": {},
   "source": [
    "#### Looking at the shape of the datasets"
   ]
  },
  {
   "cell_type": "code",
   "execution_count": 3,
   "metadata": {},
   "outputs": [
    {
     "name": "stdout",
     "output_type": "stream",
     "text": [
      "The shape of the training set is : (54808, 14)\n",
      "The shape of the test set is : (23490, 13)\n"
     ]
    }
   ],
   "source": [
    "print(\"The shape of the training set is : {}\".format(train.shape))\n",
    "print(\"The shape of the test set is : {}\".format(test.shape))"
   ]
  },
  {
   "cell_type": "markdown",
   "metadata": {},
   "source": [
    "### Data Preprocessing"
   ]
  },
  {
   "cell_type": "markdown",
   "metadata": {},
   "source": [
    "#### Looking for null values in the training and test set"
   ]
  },
  {
   "cell_type": "code",
   "execution_count": 4,
   "metadata": {},
   "outputs": [
    {
     "data": {
      "text/plain": [
       "employee_id                0\n",
       "department                 0\n",
       "region                     0\n",
       "education               2409\n",
       "gender                     0\n",
       "recruitment_channel        0\n",
       "no_of_trainings            0\n",
       "age                        0\n",
       "previous_year_rating    4124\n",
       "length_of_service          0\n",
       "KPIs_met >80%              0\n",
       "awards_won?                0\n",
       "avg_training_score         0\n",
       "is_promoted                0\n",
       "dtype: int64"
      ]
     },
     "execution_count": 4,
     "metadata": {},
     "output_type": "execute_result"
    }
   ],
   "source": [
    "train.isnull().sum()"
   ]
  },
  {
   "cell_type": "code",
   "execution_count": 5,
   "metadata": {},
   "outputs": [
    {
     "data": {
      "text/plain": [
       "employee_id                0\n",
       "department                 0\n",
       "region                     0\n",
       "education               1034\n",
       "gender                     0\n",
       "recruitment_channel        0\n",
       "no_of_trainings            0\n",
       "age                        0\n",
       "previous_year_rating    1812\n",
       "length_of_service          0\n",
       "KPIs_met >80%              0\n",
       "awards_won?                0\n",
       "avg_training_score         0\n",
       "dtype: int64"
      ]
     },
     "execution_count": 5,
     "metadata": {},
     "output_type": "execute_result"
    }
   ],
   "source": [
    "test.isnull().sum()"
   ]
  },
  {
   "cell_type": "markdown",
   "metadata": {},
   "source": [
    "#### looking at the data types of the variables"
   ]
  },
  {
   "cell_type": "code",
   "execution_count": 6,
   "metadata": {
    "scrolled": true
   },
   "outputs": [
    {
     "data": {
      "text/plain": [
       "employee_id               int64\n",
       "department               object\n",
       "region                   object\n",
       "education                object\n",
       "gender                   object\n",
       "recruitment_channel      object\n",
       "no_of_trainings           int64\n",
       "age                       int64\n",
       "previous_year_rating    float64\n",
       "length_of_service         int64\n",
       "KPIs_met >80%             int64\n",
       "awards_won?               int64\n",
       "avg_training_score        int64\n",
       "is_promoted               int64\n",
       "dtype: object"
      ]
     },
     "execution_count": 6,
     "metadata": {},
     "output_type": "execute_result"
    }
   ],
   "source": [
    "train.dtypes"
   ]
  },
  {
   "cell_type": "markdown",
   "metadata": {},
   "source": [
    "#### Treating the null values"
   ]
  },
  {
   "cell_type": "code",
   "execution_count": 7,
   "metadata": {},
   "outputs": [
    {
     "data": {
      "text/html": [
       "<div>\n",
       "<style scoped>\n",
       "    .dataframe tbody tr th:only-of-type {\n",
       "        vertical-align: middle;\n",
       "    }\n",
       "\n",
       "    .dataframe tbody tr th {\n",
       "        vertical-align: top;\n",
       "    }\n",
       "\n",
       "    .dataframe thead th {\n",
       "        text-align: right;\n",
       "    }\n",
       "</style>\n",
       "<table border=\"1\" class=\"dataframe\">\n",
       "  <thead>\n",
       "    <tr style=\"text-align: right;\">\n",
       "      <th></th>\n",
       "      <th>employee_id</th>\n",
       "      <th>department</th>\n",
       "      <th>region</th>\n",
       "      <th>education</th>\n",
       "      <th>gender</th>\n",
       "      <th>recruitment_channel</th>\n",
       "      <th>no_of_trainings</th>\n",
       "      <th>age</th>\n",
       "      <th>previous_year_rating</th>\n",
       "      <th>length_of_service</th>\n",
       "      <th>KPIs_met &gt;80%</th>\n",
       "      <th>awards_won?</th>\n",
       "      <th>avg_training_score</th>\n",
       "      <th>is_promoted</th>\n",
       "    </tr>\n",
       "  </thead>\n",
       "  <tbody>\n",
       "    <tr>\n",
       "      <th>0</th>\n",
       "      <td>65438</td>\n",
       "      <td>Sales &amp; Marketing</td>\n",
       "      <td>region_7</td>\n",
       "      <td>Master's &amp; above</td>\n",
       "      <td>f</td>\n",
       "      <td>sourcing</td>\n",
       "      <td>1</td>\n",
       "      <td>35</td>\n",
       "      <td>5.0</td>\n",
       "      <td>8</td>\n",
       "      <td>1</td>\n",
       "      <td>0</td>\n",
       "      <td>49</td>\n",
       "      <td>0</td>\n",
       "    </tr>\n",
       "    <tr>\n",
       "      <th>1</th>\n",
       "      <td>65141</td>\n",
       "      <td>Operations</td>\n",
       "      <td>region_22</td>\n",
       "      <td>Bachelor's</td>\n",
       "      <td>m</td>\n",
       "      <td>other</td>\n",
       "      <td>1</td>\n",
       "      <td>30</td>\n",
       "      <td>5.0</td>\n",
       "      <td>4</td>\n",
       "      <td>0</td>\n",
       "      <td>0</td>\n",
       "      <td>60</td>\n",
       "      <td>0</td>\n",
       "    </tr>\n",
       "    <tr>\n",
       "      <th>2</th>\n",
       "      <td>7513</td>\n",
       "      <td>Sales &amp; Marketing</td>\n",
       "      <td>region_19</td>\n",
       "      <td>Bachelor's</td>\n",
       "      <td>m</td>\n",
       "      <td>sourcing</td>\n",
       "      <td>1</td>\n",
       "      <td>34</td>\n",
       "      <td>3.0</td>\n",
       "      <td>7</td>\n",
       "      <td>0</td>\n",
       "      <td>0</td>\n",
       "      <td>50</td>\n",
       "      <td>0</td>\n",
       "    </tr>\n",
       "    <tr>\n",
       "      <th>3</th>\n",
       "      <td>2542</td>\n",
       "      <td>Sales &amp; Marketing</td>\n",
       "      <td>region_23</td>\n",
       "      <td>Bachelor's</td>\n",
       "      <td>m</td>\n",
       "      <td>other</td>\n",
       "      <td>2</td>\n",
       "      <td>39</td>\n",
       "      <td>1.0</td>\n",
       "      <td>10</td>\n",
       "      <td>0</td>\n",
       "      <td>0</td>\n",
       "      <td>50</td>\n",
       "      <td>0</td>\n",
       "    </tr>\n",
       "    <tr>\n",
       "      <th>4</th>\n",
       "      <td>48945</td>\n",
       "      <td>Technology</td>\n",
       "      <td>region_26</td>\n",
       "      <td>Bachelor's</td>\n",
       "      <td>m</td>\n",
       "      <td>other</td>\n",
       "      <td>1</td>\n",
       "      <td>45</td>\n",
       "      <td>3.0</td>\n",
       "      <td>2</td>\n",
       "      <td>0</td>\n",
       "      <td>0</td>\n",
       "      <td>73</td>\n",
       "      <td>0</td>\n",
       "    </tr>\n",
       "  </tbody>\n",
       "</table>\n",
       "</div>"
      ],
      "text/plain": [
       "   employee_id         department     region         education gender  \\\n",
       "0        65438  Sales & Marketing   region_7  Master's & above      f   \n",
       "1        65141         Operations  region_22        Bachelor's      m   \n",
       "2         7513  Sales & Marketing  region_19        Bachelor's      m   \n",
       "3         2542  Sales & Marketing  region_23        Bachelor's      m   \n",
       "4        48945         Technology  region_26        Bachelor's      m   \n",
       "\n",
       "  recruitment_channel  no_of_trainings  age  previous_year_rating  \\\n",
       "0            sourcing                1   35                   5.0   \n",
       "1               other                1   30                   5.0   \n",
       "2            sourcing                1   34                   3.0   \n",
       "3               other                2   39                   1.0   \n",
       "4               other                1   45                   3.0   \n",
       "\n",
       "   length_of_service  KPIs_met >80%  awards_won?  avg_training_score  \\\n",
       "0                  8              1            0                  49   \n",
       "1                  4              0            0                  60   \n",
       "2                  7              0            0                  50   \n",
       "3                 10              0            0                  50   \n",
       "4                  2              0            0                  73   \n",
       "\n",
       "   is_promoted  \n",
       "0            0  \n",
       "1            0  \n",
       "2            0  \n",
       "3            0  \n",
       "4            0  "
      ]
     },
     "execution_count": 7,
     "metadata": {},
     "output_type": "execute_result"
    }
   ],
   "source": [
    "train.head()"
   ]
  },
  {
   "cell_type": "markdown",
   "metadata": {},
   "source": [
    "#### Education of an employee can be approximated from the age "
   ]
  },
  {
   "cell_type": "code",
   "execution_count": 8,
   "metadata": {},
   "outputs": [
    {
     "data": {
      "text/plain": [
       "<matplotlib.axes._subplots.AxesSubplot at 0x23a8ea4ceb8>"
      ]
     },
     "execution_count": 8,
     "metadata": {},
     "output_type": "execute_result"
    },
    {
     "data": {
      "image/png": "[encoded data removed]",
      "text/plain": [
       "<Figure size 432x288 with 1 Axes>"
      ]
     },
     "metadata": {
      "needs_background": "light"
     },
     "output_type": "display_data"
    }
   ],
   "source": [
    "train['age'].hist()"
   ]
  },
  {
   "cell_type": "markdown",
   "metadata": {},
   "source": [
    "#### Categorizing the age variable"
   ]
  },
  {
   "cell_type": "code",
   "execution_count": 9,
   "metadata": {},
   "outputs": [],
   "source": [
    "bins = [0, 28, 36, 45, 61]\n",
    "labels = ['0 to 27','28 to 35','36 to 44','45 to 60']\n",
    "train['Age Group'] = pd.cut(train['age'], bins = bins, labels = labels)"
   ]
  },
  {
   "cell_type": "code",
   "execution_count": 10,
   "metadata": {},
   "outputs": [
    {
     "data": {
      "text/plain": [
       "28 to 35    25652\n",
       "36 to 44    12483\n",
       "0 to 27     11048\n",
       "45 to 60     5625\n",
       "Name: Age Group, dtype: int64"
      ]
     },
     "execution_count": 10,
     "metadata": {},
     "output_type": "execute_result"
    }
   ],
   "source": [
    "train['Age Group'].value_counts()"
   ]
  },
  {
   "cell_type": "code",
   "execution_count": 11,
   "metadata": {},
   "outputs": [
    {
     "data": {
      "text/plain": [
       "Age Group  education       \n",
       "0 to 27    Bachelor's           9033\n",
       "           Below Secondary       800\n",
       "           Master's & above      111\n",
       "28 to 35   Bachelor's          18508\n",
       "           Below Secondary         5\n",
       "           Master's & above     6280\n",
       "36 to 44   Bachelor's           6395\n",
       "           Master's & above     5783\n",
       "45 to 60   Bachelor's           2733\n",
       "           Master's & above     2751\n",
       "Name: education, dtype: int64"
      ]
     },
     "execution_count": 11,
     "metadata": {},
     "output_type": "execute_result"
    }
   ],
   "source": [
    "train.groupby(['Age Group','education'])['education'].count()"
   ]
  },
  {
   "cell_type": "markdown",
   "metadata": {},
   "source": [
    "#### Creating another age variable which is the age at which the employee joined the company"
   ]
  },
  {
   "cell_type": "code",
   "execution_count": 12,
   "metadata": {},
   "outputs": [],
   "source": [
    "train['joining age'] = train['age'] - train['length_of_service']"
   ]
  },
  {
   "cell_type": "code",
   "execution_count": 13,
   "metadata": {},
   "outputs": [
    {
     "data": {
      "text/plain": [
       "<matplotlib.axes._subplots.AxesSubplot at 0x23a8ebe1550>"
      ]
     },
     "execution_count": 13,
     "metadata": {},
     "output_type": "execute_result"
    },
    {
     "data": {
      "image/png": "[encoded data removed]",
      "text/plain": [
       "<Figure size 432x288 with 1 Axes>"
      ]
     },
     "metadata": {
      "needs_background": "light"
     },
     "output_type": "display_data"
    }
   ],
   "source": [
    "train['joining age'].hist()"
   ]
  },
  {
   "cell_type": "markdown",
   "metadata": {},
   "source": [
    "#### Age of joining categories"
   ]
  },
  {
   "cell_type": "code",
   "execution_count": 14,
   "metadata": {},
   "outputs": [],
   "source": [
    "bins = [0, 22, 27, 30, 40, 60]\n",
    "labels = ['0 to 21','22 to 26','27 to 29','30 to 39','40 to 59']\n",
    "train['Age Join Group'] = pd.cut(train['joining age'], bins = bins, labels = labels)"
   ]
  },
  {
   "cell_type": "code",
   "execution_count": 15,
   "metadata": {},
   "outputs": [
    {
     "data": {
      "text/plain": [
       "22 to 26    24363\n",
       "30 to 39    12292\n",
       "27 to 29    11861\n",
       "0 to 21      3176\n",
       "40 to 59     3116\n",
       "Name: Age Join Group, dtype: int64"
      ]
     },
     "execution_count": 15,
     "metadata": {},
     "output_type": "execute_result"
    }
   ],
   "source": [
    "train['Age Join Group'].value_counts()"
   ]
  },
  {
   "cell_type": "code",
   "execution_count": 16,
   "metadata": {},
   "outputs": [
    {
     "data": {
      "text/plain": [
       "Age Group  Age Join Group  education       \n",
       "0 to 27    0 to 21         Bachelor's           1628\n",
       "                           Below Secondary       478\n",
       "                           Master's & above       20\n",
       "           22 to 26        Bachelor's           7405\n",
       "                           Below Secondary       322\n",
       "                           Master's & above       91\n",
       "28 to 35   0 to 21         Bachelor's            496\n",
       "                           Master's & above       61\n",
       "           22 to 26        Bachelor's          11038\n",
       "                           Below Secondary         2\n",
       "                           Master's & above     3011\n",
       "           27 to 29        Bachelor's           5415\n",
       "                           Below Secondary         3\n",
       "                           Master's & above     2095\n",
       "           30 to 39        Bachelor's           1559\n",
       "                           Master's & above     1113\n",
       "36 to 44   0 to 21         Bachelor's              4\n",
       "                           Master's & above        4\n",
       "           22 to 26        Bachelor's            591\n",
       "                           Master's & above      507\n",
       "           27 to 29        Bachelor's           1816\n",
       "                           Master's & above     1586\n",
       "           30 to 39        Bachelor's           3840\n",
       "                           Master's & above     3553\n",
       "           40 to 59        Bachelor's            144\n",
       "                           Master's & above      133\n",
       "45 to 60   0 to 21         Bachelor's              1\n",
       "                           Master's & above        1\n",
       "           22 to 26        Bachelor's             83\n",
       "                           Master's & above       94\n",
       "           27 to 29        Bachelor's            297\n",
       "                           Master's & above      339\n",
       "           30 to 39        Bachelor's            935\n",
       "                           Master's & above      977\n",
       "           40 to 59        Bachelor's           1417\n",
       "                           Master's & above     1340\n",
       "Name: education, dtype: int64"
      ]
     },
     "execution_count": 16,
     "metadata": {},
     "output_type": "execute_result"
    }
   ],
   "source": [
    "train.groupby(['Age Group','Age Join Group','education'])['education'].count()"
   ]
  },
  {
   "cell_type": "code",
   "execution_count": 17,
   "metadata": {},
   "outputs": [],
   "source": [
    "edu = (train['Age Group'] == \"0 to 27\")\n",
    "train.loc[train['education'].isnull() & edu, 'education'] = \"Bachelor's\"\n",
    "\n",
    "edu = ((train['Age Group'] == \"28 to 35\") & (train['Age Join Group'] == \"0 to 21\"))\n",
    "train.loc[train['education'].isnull() & edu, 'education'] = \"Bachelor's\"\n",
    "\n",
    "edu = ((train['Age Group'] == \"28 to 35\") & (train['Age Join Group'] == \"22 to 26\"))\n",
    "train.loc[train['education'].isnull() & edu, 'education'] = \"Bachelor's\"\n",
    "\n",
    "edu = ((train['Age Group'] == \"28 to 35\") & (train['Age Join Group'] == \"27 to 29\"))\n",
    "train.loc[train['education'].isnull() & edu, 'education'] = \"Bachelor's\"\n",
    "\n",
    "edu = ((train['Age Group'] == \"28 to 35\") & (train['Age Join Group'] == \"30 to 39\"))\n",
    "train.loc[train['education'].isnull() & edu, 'education'] = \"Master's & above\"\n",
    "\n",
    "edu = ((train['Age Group'] == \"36 to 44\") & (train['Age Join Group'] == \"0 to 21\"))\n",
    "train.loc[train['education'].isnull() & edu, 'education'] = \"Bachelor's\"\n",
    "\n",
    "edu = ((train['Age Group'] == \"36 to 44\") & (train['Age Join Group'] == \"22 to 26\"))\n",
    "train.loc[train['education'].isnull() & edu, 'education'] = \"Bachelor's\"\n",
    "\n",
    "edu = ((train['Age Group'] == \"36 to 44\") & (train['Age Join Group'] == \"27 to 29\"))\n",
    "train.loc[train['education'].isnull() & edu, 'education'] = \"Bachelor's\"\n",
    "\n",
    "edu = ((train['Age Group'] == \"36 to 44\") & (train['Age Join Group'] == \"30 to 39\"))\n",
    "train.loc[train['education'].isnull() & edu, 'education'] = \"Master's & above\"\n",
    "\n",
    "edu = ((train['Age Group'] == \"36 to 44\") & (train['Age Join Group'] == \"40 to 59\"))\n",
    "train.loc[train['education'].isnull() & edu, 'education'] = \"Master's & above\"\n",
    "\n",
    "edu = (train['Age Group'] == \"45 to 60\")\n",
    "train.loc[train['education'].isnull() & edu, 'education'] = \"Master's & above\""
   ]
  },
  {
   "cell_type": "markdown",
   "metadata": {},
   "source": [
    "#### Here the null values have been imputed based on the different age groups and joining age groups"
   ]
  },
  {
   "cell_type": "code",
   "execution_count": 18,
   "metadata": {},
   "outputs": [
    {
     "data": {
      "text/plain": [
       "0"
      ]
     },
     "execution_count": 18,
     "metadata": {},
     "output_type": "execute_result"
    }
   ],
   "source": [
    "train['education'].isnull().sum()"
   ]
  },
  {
   "cell_type": "markdown",
   "metadata": {},
   "source": [
    "#### Treating the null values for previous year rating"
   ]
  },
  {
   "cell_type": "markdown",
   "metadata": {},
   "source": [
    "#### Here the prevoius year rating will be approximated based on whether KPIs were met and promoted or not"
   ]
  },
  {
   "cell_type": "code",
   "execution_count": 19,
   "metadata": {},
   "outputs": [
    {
     "data": {
      "text/plain": [
       "3.0    18618\n",
       "5.0    11741\n",
       "4.0     9877\n",
       "1.0     6223\n",
       "2.0     4225\n",
       "Name: previous_year_rating, dtype: int64"
      ]
     },
     "execution_count": 19,
     "metadata": {},
     "output_type": "execute_result"
    }
   ],
   "source": [
    "train['previous_year_rating'].value_counts()"
   ]
  },
  {
   "cell_type": "code",
   "execution_count": 20,
   "metadata": {},
   "outputs": [
    {
     "data": {
      "text/plain": [
       "KPIs_met >80%  is_promoted  previous_year_rating\n",
       "0              0            1.0                      5393\n",
       "                            2.0                      3393\n",
       "                            3.0                     13359\n",
       "                            4.0                      5753\n",
       "                            5.0                      3632\n",
       "               1            1.0                        31\n",
       "                            2.0                        63\n",
       "                            3.0                       451\n",
       "                            4.0                       146\n",
       "                            5.0                       614\n",
       "1              0            1.0                       742\n",
       "                            2.0                       651\n",
       "                            3.0                      3904\n",
       "                            4.0                      3340\n",
       "                            5.0                      6188\n",
       "               1            1.0                        57\n",
       "                            2.0                       118\n",
       "                            3.0                       904\n",
       "                            4.0                       638\n",
       "                            5.0                      1307\n",
       "Name: previous_year_rating, dtype: int64"
      ]
     },
     "execution_count": 20,
     "metadata": {},
     "output_type": "execute_result"
    }
   ],
   "source": [
    "train.groupby(['KPIs_met >80%','is_promoted','previous_year_rating'])['previous_year_rating'].count()"
   ]
  },
  {
   "cell_type": "code",
   "execution_count": 21,
   "metadata": {},
   "outputs": [],
   "source": [
    "rating = ((train['is_promoted'] == 1) & (train['KPIs_met >80%'] == 1))\n",
    "train.loc[train['previous_year_rating'].isnull()  & rating, 'previous_year_rating'] = 5\n",
    "\n",
    "rating = ((train['is_promoted'] == 1) & (train['KPIs_met >80%'] == 0))\n",
    "train.loc[train['previous_year_rating'].isnull() & rating, 'previous_year_rating'] = 5\n",
    "\n",
    "rating = ((train['is_promoted'] == 0) & (train['KPIs_met >80%'] == 0))\n",
    "train.loc[train['previous_year_rating'].isnull() & rating, 'previous_year_rating'] = 3\n",
    "\n",
    "rating = ((train['is_promoted'] == 0) & (train['KPIs_met >80%'] == 1))\n",
    "train.loc[train['previous_year_rating'].isnull() & rating, 'previous_year_rating'] = 5"
   ]
  },
  {
   "cell_type": "code",
   "execution_count": 22,
   "metadata": {},
   "outputs": [
    {
     "data": {
      "text/plain": [
       "0"
      ]
     },
     "execution_count": 22,
     "metadata": {},
     "output_type": "execute_result"
    }
   ],
   "source": [
    "train['previous_year_rating'].isnull().sum()"
   ]
  },
  {
   "cell_type": "code",
   "execution_count": 23,
   "metadata": {},
   "outputs": [
    {
     "data": {
      "text/plain": [
       "3.0    21199\n",
       "5.0    13284\n",
       "4.0     9877\n",
       "1.0     6223\n",
       "2.0     4225\n",
       "Name: previous_year_rating, dtype: int64"
      ]
     },
     "execution_count": 23,
     "metadata": {},
     "output_type": "execute_result"
    }
   ],
   "source": [
    "train['previous_year_rating'].value_counts()"
   ]
  },
  {
   "cell_type": "code",
   "execution_count": 24,
   "metadata": {},
   "outputs": [
    {
     "data": {
      "text/html": [
       "<div>\n",
       "<style scoped>\n",
       "    .dataframe tbody tr th:only-of-type {\n",
       "        vertical-align: middle;\n",
       "    }\n",
       "\n",
       "    .dataframe tbody tr th {\n",
       "        vertical-align: top;\n",
       "    }\n",
       "\n",
       "    .dataframe thead th {\n",
       "        text-align: right;\n",
       "    }\n",
       "</style>\n",
       "<table border=\"1\" class=\"dataframe\">\n",
       "  <thead>\n",
       "    <tr style=\"text-align: right;\">\n",
       "      <th></th>\n",
       "      <th>employee_id</th>\n",
       "      <th>department</th>\n",
       "      <th>region</th>\n",
       "      <th>education</th>\n",
       "      <th>gender</th>\n",
       "      <th>recruitment_channel</th>\n",
       "      <th>no_of_trainings</th>\n",
       "      <th>age</th>\n",
       "      <th>previous_year_rating</th>\n",
       "      <th>length_of_service</th>\n",
       "      <th>KPIs_met &gt;80%</th>\n",
       "      <th>awards_won?</th>\n",
       "      <th>avg_training_score</th>\n",
       "      <th>is_promoted</th>\n",
       "      <th>Age Group</th>\n",
       "      <th>joining age</th>\n",
       "      <th>Age Join Group</th>\n",
       "    </tr>\n",
       "  </thead>\n",
       "  <tbody>\n",
       "    <tr>\n",
       "      <th>0</th>\n",
       "      <td>65438</td>\n",
       "      <td>Sales &amp; Marketing</td>\n",
       "      <td>region_7</td>\n",
       "      <td>Master's &amp; above</td>\n",
       "      <td>f</td>\n",
       "      <td>sourcing</td>\n",
       "      <td>1</td>\n",
       "      <td>35</td>\n",
       "      <td>5.0</td>\n",
       "      <td>8</td>\n",
       "      <td>1</td>\n",
       "      <td>0</td>\n",
       "      <td>49</td>\n",
       "      <td>0</td>\n",
       "      <td>28 to 35</td>\n",
       "      <td>27</td>\n",
       "      <td>22 to 26</td>\n",
       "    </tr>\n",
       "    <tr>\n",
       "      <th>1</th>\n",
       "      <td>65141</td>\n",
       "      <td>Operations</td>\n",
       "      <td>region_22</td>\n",
       "      <td>Bachelor's</td>\n",
       "      <td>m</td>\n",
       "      <td>other</td>\n",
       "      <td>1</td>\n",
       "      <td>30</td>\n",
       "      <td>5.0</td>\n",
       "      <td>4</td>\n",
       "      <td>0</td>\n",
       "      <td>0</td>\n",
       "      <td>60</td>\n",
       "      <td>0</td>\n",
       "      <td>28 to 35</td>\n",
       "      <td>26</td>\n",
       "      <td>22 to 26</td>\n",
       "    </tr>\n",
       "    <tr>\n",
       "      <th>2</th>\n",
       "      <td>7513</td>\n",
       "      <td>Sales &amp; Marketing</td>\n",
       "      <td>region_19</td>\n",
       "      <td>Bachelor's</td>\n",
       "      <td>m</td>\n",
       "      <td>sourcing</td>\n",
       "      <td>1</td>\n",
       "      <td>34</td>\n",
       "      <td>3.0</td>\n",
       "      <td>7</td>\n",
       "      <td>0</td>\n",
       "      <td>0</td>\n",
       "      <td>50</td>\n",
       "      <td>0</td>\n",
       "      <td>28 to 35</td>\n",
       "      <td>27</td>\n",
       "      <td>22 to 26</td>\n",
       "    </tr>\n",
       "    <tr>\n",
       "      <th>3</th>\n",
       "      <td>2542</td>\n",
       "      <td>Sales &amp; Marketing</td>\n",
       "      <td>region_23</td>\n",
       "      <td>Bachelor's</td>\n",
       "      <td>m</td>\n",
       "      <td>other</td>\n",
       "      <td>2</td>\n",
       "      <td>39</td>\n",
       "      <td>1.0</td>\n",
       "      <td>10</td>\n",
       "      <td>0</td>\n",
       "      <td>0</td>\n",
       "      <td>50</td>\n",
       "      <td>0</td>\n",
       "      <td>36 to 44</td>\n",
       "      <td>29</td>\n",
       "      <td>27 to 29</td>\n",
       "    </tr>\n",
       "    <tr>\n",
       "      <th>4</th>\n",
       "      <td>48945</td>\n",
       "      <td>Technology</td>\n",
       "      <td>region_26</td>\n",
       "      <td>Bachelor's</td>\n",
       "      <td>m</td>\n",
       "      <td>other</td>\n",
       "      <td>1</td>\n",
       "      <td>45</td>\n",
       "      <td>3.0</td>\n",
       "      <td>2</td>\n",
       "      <td>0</td>\n",
       "      <td>0</td>\n",
       "      <td>73</td>\n",
       "      <td>0</td>\n",
       "      <td>36 to 44</td>\n",
       "      <td>43</td>\n",
       "      <td>40 to 59</td>\n",
       "    </tr>\n",
       "  </tbody>\n",
       "</table>\n",
       "</div>"
      ],
      "text/plain": [
       "   employee_id         department     region         education gender  \\\n",
       "0        65438  Sales & Marketing   region_7  Master's & above      f   \n",
       "1        65141         Operations  region_22        Bachelor's      m   \n",
       "2         7513  Sales & Marketing  region_19        Bachelor's      m   \n",
       "3         2542  Sales & Marketing  region_23        Bachelor's      m   \n",
       "4        48945         Technology  region_26        Bachelor's      m   \n",
       "\n",
       "  recruitment_channel  no_of_trainings  age  previous_year_rating  \\\n",
       "0            sourcing                1   35                   5.0   \n",
       "1               other                1   30                   5.0   \n",
       "2            sourcing                1   34                   3.0   \n",
       "3               other                2   39                   1.0   \n",
       "4               other                1   45                   3.0   \n",
       "\n",
       "   length_of_service  KPIs_met >80%  awards_won?  avg_training_score  \\\n",
       "0                  8              1            0                  49   \n",
       "1                  4              0            0                  60   \n",
       "2                  7              0            0                  50   \n",
       "3                 10              0            0                  50   \n",
       "4                  2              0            0                  73   \n",
       "\n",
       "   is_promoted Age Group  joining age Age Join Group  \n",
       "0            0  28 to 35           27       22 to 26  \n",
       "1            0  28 to 35           26       22 to 26  \n",
       "2            0  28 to 35           27       22 to 26  \n",
       "3            0  36 to 44           29       27 to 29  \n",
       "4            0  36 to 44           43       40 to 59  "
      ]
     },
     "execution_count": 24,
     "metadata": {},
     "output_type": "execute_result"
    }
   ],
   "source": [
    "train.head()"
   ]
  },
  {
   "cell_type": "markdown",
   "metadata": {},
   "source": [
    "#### Converting the values in the gender column to Male and Female"
   ]
  },
  {
   "cell_type": "code",
   "execution_count": 25,
   "metadata": {},
   "outputs": [],
   "source": [
    "train['gender'] = train['gender'].replace({'f': 'Female', 'm': 'Male'})"
   ]
  },
  {
   "cell_type": "code",
   "execution_count": 26,
   "metadata": {},
   "outputs": [
    {
     "data": {
      "text/plain": [
       "Male      38496\n",
       "Female    16312\n",
       "Name: gender, dtype: int64"
      ]
     },
     "execution_count": 26,
     "metadata": {},
     "output_type": "execute_result"
    }
   ],
   "source": [
    "train['gender'].value_counts()"
   ]
  },
  {
   "cell_type": "code",
   "execution_count": 27,
   "metadata": {},
   "outputs": [
    {
     "data": {
      "text/plain": [
       "employee_id                int64\n",
       "department                object\n",
       "region                    object\n",
       "education                 object\n",
       "gender                    object\n",
       "recruitment_channel       object\n",
       "no_of_trainings            int64\n",
       "age                        int64\n",
       "previous_year_rating     float64\n",
       "length_of_service          int64\n",
       "KPIs_met >80%              int64\n",
       "awards_won?                int64\n",
       "avg_training_score         int64\n",
       "is_promoted                int64\n",
       "Age Group               category\n",
       "joining age                int64\n",
       "Age Join Group          category\n",
       "dtype: object"
      ]
     },
     "execution_count": 27,
     "metadata": {},
     "output_type": "execute_result"
    }
   ],
   "source": [
    "train.dtypes"
   ]
  },
  {
   "cell_type": "markdown",
   "metadata": {},
   "source": [
    "#### Converting previous year ratings, KPIs met > 80%, awards won and is promoted to object"
   ]
  },
  {
   "cell_type": "code",
   "execution_count": 28,
   "metadata": {},
   "outputs": [],
   "source": [
    "train['previous_year_rating'] = train['previous_year_rating'].astype('str')\n",
    "train['KPIs_met >80%'] = train['KPIs_met >80%'].astype('str')\n",
    "train['awards_won?'] = train['awards_won?'].astype('str')\n",
    "train['is_promoted'] = train['is_promoted'].astype('str')"
   ]
  },
  {
   "cell_type": "code",
   "execution_count": 29,
   "metadata": {},
   "outputs": [
    {
     "data": {
      "text/plain": [
       "employee_id                int64\n",
       "department                object\n",
       "region                    object\n",
       "education                 object\n",
       "gender                    object\n",
       "recruitment_channel       object\n",
       "no_of_trainings            int64\n",
       "age                        int64\n",
       "previous_year_rating      object\n",
       "length_of_service          int64\n",
       "KPIs_met >80%             object\n",
       "awards_won?               object\n",
       "avg_training_score         int64\n",
       "is_promoted               object\n",
       "Age Group               category\n",
       "joining age                int64\n",
       "Age Join Group          category\n",
       "dtype: object"
      ]
     },
     "execution_count": 29,
     "metadata": {},
     "output_type": "execute_result"
    }
   ],
   "source": [
    "train.dtypes"
   ]
  },
  {
   "cell_type": "markdown",
   "metadata": {},
   "source": [
    "#### Getting the counts of the categorical features"
   ]
  },
  {
   "cell_type": "code",
   "execution_count": 30,
   "metadata": {},
   "outputs": [],
   "source": [
    "columns = ['department','region','education','gender','recruitment_channel','previous_year_rating','KPIs_met >80%',\n",
    "          'awards_won?','is_promoted']"
   ]
  },
  {
   "cell_type": "code",
   "execution_count": 31,
   "metadata": {
    "scrolled": false
   },
   "outputs": [
    {
     "name": "stdout",
     "output_type": "stream",
     "text": [
      "The value counts for department is:\n",
      " \n",
      "Sales & Marketing    16840\n",
      "Operations           11348\n",
      "Technology            7138\n",
      "Procurement           7138\n",
      "Analytics             5352\n",
      "Finance               2536\n",
      "HR                    2418\n",
      "Legal                 1039\n",
      "R&D                    999\n",
      "Name: department, dtype: int64\n",
      " \n",
      "The value counts for region is:\n",
      " \n",
      "region_2     12343\n",
      "region_22     6428\n",
      "region_7      4843\n",
      "region_15     2808\n",
      "region_13     2648\n",
      "region_26     2260\n",
      "region_31     1935\n",
      "region_4      1703\n",
      "region_27     1659\n",
      "region_16     1465\n",
      "region_28     1318\n",
      "region_11     1315\n",
      "region_23     1175\n",
      "region_29      994\n",
      "region_32      945\n",
      "region_19      874\n",
      "region_20      850\n",
      "region_14      827\n",
      "region_25      819\n",
      "region_17      796\n",
      "region_5       766\n",
      "region_6       690\n",
      "region_30      657\n",
      "region_8       655\n",
      "region_10      648\n",
      "region_1       610\n",
      "region_24      508\n",
      "region_12      500\n",
      "region_9       420\n",
      "region_21      411\n",
      "region_3       346\n",
      "region_34      292\n",
      "region_33      269\n",
      "region_18       31\n",
      "Name: region, dtype: int64\n",
      " \n",
      "The value counts for education is:\n",
      " \n",
      "Bachelor's          38659\n",
      "Master's & above    15344\n",
      "Below Secondary       805\n",
      "Name: education, dtype: int64\n",
      " \n",
      "The value counts for gender is:\n",
      " \n",
      "Male      38496\n",
      "Female    16312\n",
      "Name: gender, dtype: int64\n",
      " \n",
      "The value counts for recruitment_channel is:\n",
      " \n",
      "other       30446\n",
      "sourcing    23220\n",
      "referred     1142\n",
      "Name: recruitment_channel, dtype: int64\n",
      " \n",
      "The value counts for previous_year_rating is:\n",
      " \n",
      "3.0    21199\n",
      "5.0    13284\n",
      "4.0     9877\n",
      "1.0     6223\n",
      "2.0     4225\n",
      "Name: previous_year_rating, dtype: int64\n",
      " \n",
      "The value counts for KPIs_met >80% is:\n",
      " \n",
      "0    35517\n",
      "1    19291\n",
      "Name: KPIs_met >80%, dtype: int64\n",
      " \n",
      "The value counts for awards_won? is:\n",
      " \n",
      "0    53538\n",
      "1     1270\n",
      "Name: awards_won?, dtype: int64\n",
      " \n",
      "The value counts for is_promoted is:\n",
      " \n",
      "0    50140\n",
      "1     4668\n",
      "Name: is_promoted, dtype: int64\n",
      " \n"
     ]
    }
   ],
   "source": [
    "for feature in columns:\n",
    "    print(\"The value counts for {} is:\\n \\n{}\\n \".format(feature, train[feature].value_counts()))"
   ]
  },
  {
   "cell_type": "markdown",
   "metadata": {},
   "source": [
    "### Exploratory Data Analysis"
   ]
  },
  {
   "cell_type": "code",
   "execution_count": 32,
   "metadata": {},
   "outputs": [
    {
     "data": {
      "image/png": "[encoded data removed]",
      "text/plain": [
       "<Figure size 432x288 with 1 Axes>"
      ]
     },
     "metadata": {
      "needs_background": "light"
     },
     "output_type": "display_data"
    }
   ],
   "source": [
    "plot = sb.countplot(train['is_promoted'])\n",
    "plt.xlabel(\"Promoted or not\", fontsize = 15)\n",
    "plt.ylabel(\"Number of employees\", fontsize = 15)\n",
    "plt.title(\"Number of employees promoted last year\", fontsize = 18)\n",
    "plt.xticks(fontsize = 12)\n",
    "plt.yticks(fontsize = 12)\n",
    "for p in plot.patches:\n",
    "        plot.annotate('{:.0f}'.format(p.get_height()), (p.get_x()+0.3, p.get_height()+500))"
   ]
  },
  {
   "cell_type": "markdown",
   "metadata": {},
   "source": [
    "#### 4668 out of 54,808 which is 8.51% of the employees have been promoted the previous year"
   ]
  },
  {
   "cell_type": "markdown",
   "metadata": {},
   "source": [
    "#### How many male and how many female employees were promoted"
   ]
  },
  {
   "cell_type": "code",
   "execution_count": 33,
   "metadata": {},
   "outputs": [
    {
     "data": {
      "image/png": "[encoded data removed]",
      "text/plain": [
       "<Figure size 432x288 with 1 Axes>"
      ]
     },
     "metadata": {
      "needs_background": "light"
     },
     "output_type": "display_data"
    }
   ],
   "source": [
    "plot = train.groupby('gender')['is_promoted'].value_counts().plot.bar()\n",
    "plt.xlabel(\"Gender and Promotion\", fontsize = 15)\n",
    "plt.ylabel(\"Number of employees\", fontsize = 15)\n",
    "plt.title(\"Number of employees of each gender promoted last year\", fontsize = 18)\n",
    "plt.xticks(fontsize = 12,rotation = 360)\n",
    "plt.yticks(fontsize = 12)\n",
    "for p in plot.patches:\n",
    "        plot.annotate('{:.0f}'.format(p.get_height()), (p.get_x()+0.2, p.get_height()+500))"
   ]
  },
  {
   "cell_type": "markdown",
   "metadata": {},
   "source": [
    "#### 3201 out of 38496 which is 8.31% of the male employees were promoted\n",
    "#### 1467 out of 16312 which is 9% of the female employees were promoted\n",
    "#### Out of the total people promoted males contributed 68.57% and females contributed 31.43%"
   ]
  },
  {
   "cell_type": "markdown",
   "metadata": {},
   "source": [
    "#### Does education help in getting promoted"
   ]
  },
  {
   "cell_type": "code",
   "execution_count": 34,
   "metadata": {
    "scrolled": false
   },
   "outputs": [
    {
     "data": {
      "image/png": "[encoded data removed]",
      "text/plain": [
       "<Figure size 1440x576 with 1 Axes>"
      ]
     },
     "metadata": {
      "needs_background": "light"
     },
     "output_type": "display_data"
    }
   ],
   "source": [
    "plt.figure(figsize = (20,8))\n",
    "plot = train.groupby(['education'])['is_promoted'].value_counts().plot.bar()\n",
    "plt.xlabel(\"Type of Education and Promotion\", fontsize = 15)\n",
    "plt.ylabel(\"Number of employees\", fontsize = 15)\n",
    "plt.title(\"Number of employees of each education promoted last year\", fontsize = 18)\n",
    "plt.xticks(fontsize = 12,rotation = 45)\n",
    "plt.yticks(fontsize = 12)\n",
    "for p in plot.patches:\n",
    "        plot.annotate('{:.0f}'.format(p.get_height()), (p.get_x()+0.2, p.get_height()+500))"
   ]
  },
  {
   "cell_type": "markdown",
   "metadata": {},
   "source": [
    "#### 3118 out of 38659 which is 8.06% of the Bachelors were promoted\n",
    "#### 67 out of 805 which is 8.32% of the employees below secondary degrees were promoted\n",
    "#### 1483 out of 15344 which is 9.66% of the employees having masters degrees were promoted\n",
    "#### Out of the total number promoted Bachelors, Below Secondary and Masters contributed 66.79%, 1.43% and 31.76% respectively"
   ]
  },
  {
   "cell_type": "markdown",
   "metadata": {},
   "source": [
    "#### Does previous year rating affect the promotion of an employee?"
   ]
  },
  {
   "cell_type": "code",
   "execution_count": 35,
   "metadata": {},
   "outputs": [
    {
     "data": {
      "image/png": "[encoded data removed]",
      "text/plain": [
       "<Figure size 1440x576 with 1 Axes>"
      ]
     },
     "metadata": {
      "needs_background": "light"
     },
     "output_type": "display_data"
    }
   ],
   "source": [
    "plt.figure(figsize = (20,8))\n",
    "plot = train.groupby(['previous_year_rating'])['is_promoted'].value_counts().plot.bar()\n",
    "plt.xlabel(\"Previous Year Ratings and Promotion\", fontsize = 15)\n",
    "plt.ylabel(\"Number of employees\", fontsize = 15)\n",
    "plt.title(\"Number of employees promoted and their last year ratings\", fontsize = 18)\n",
    "plt.xticks(fontsize = 12,rotation = 45)\n",
    "plt.yticks(fontsize = 12)\n",
    "for p in plot.patches:\n",
    "        plot.annotate('{:.0f}'.format(p.get_height()), (p.get_x()+0.1, p.get_height()+300))"
   ]
  },
  {
   "cell_type": "markdown",
   "metadata": {},
   "source": [
    "#### Out of the total number of people promoted:\n",
    "#### 5 Point Rating employees were 48.41%\n",
    "#### 4 Point Rating employees were 16.79%\n",
    "#### 3 Point Rating employees were 29.03%\n",
    "#### 2 Point Rating employees were 3.87%\n",
    "#### 1 Point Rating employees were 1.88%"
   ]
  },
  {
   "cell_type": "markdown",
   "metadata": {},
   "source": [
    "#### Here we can see that 4 point rating employees has a lesser percentage of promotion compared to 3 point rating employees. This is because of the fact that the number of people with 3 point ratings is much higher than the number of people with 4 point rating."
   ]
  },
  {
   "cell_type": "markdown",
   "metadata": {},
   "source": [
    "#### Are long term employees getting more promotion compared to short term employees?"
   ]
  },
  {
   "cell_type": "code",
   "execution_count": 36,
   "metadata": {},
   "outputs": [
    {
     "data": {
      "text/plain": [
       "(array([0., 1., 2., 3., 4., 5., 6.]), <a list of 7 Text yticklabel objects>)"
      ]
     },
     "execution_count": 36,
     "metadata": {},
     "output_type": "execute_result"
    },
    {
     "data": {
      "image/png": "[encoded data removed]",
      "text/plain": [
       "<Figure size 1440x576 with 1 Axes>"
      ]
     },
     "metadata": {
      "needs_background": "light"
     },
     "output_type": "display_data"
    }
   ],
   "source": [
    "plt.figure(figsize = (20,8))\n",
    "plot = train.groupby(['is_promoted'])['length_of_service'].median().plot.bar()\n",
    "plt.xlabel(\"Tenure and Promotion\", fontsize = 15)\n",
    "plt.ylabel(\"Number of employees\", fontsize = 15)\n",
    "plt.title(\"Number of employees promoted and their tenure\", fontsize = 18)\n",
    "plt.xticks(fontsize = 12,rotation = 45)\n",
    "plt.yticks(fontsize = 12)"
   ]
  },
  {
   "cell_type": "markdown",
   "metadata": {},
   "source": [
    "#### There is no difference between the median tenure of employees of promoted and non promoted employees"
   ]
  },
  {
   "cell_type": "markdown",
   "metadata": {},
   "source": [
    "#### How many employees are getting promoted from each department"
   ]
  },
  {
   "cell_type": "code",
   "execution_count": 37,
   "metadata": {},
   "outputs": [
    {
     "data": {
      "image/png": "[encoded data removed]",
      "text/plain": [
       "<Figure size 1440x576 with 1 Axes>"
      ]
     },
     "metadata": {
      "needs_background": "light"
     },
     "output_type": "display_data"
    }
   ],
   "source": [
    "plt.figure(figsize = (20,8))\n",
    "plot = train.groupby(['department'])['is_promoted'].value_counts().sort_values(ascending = False).plot.bar()\n",
    "plt.xlabel(\"Departmetn and Promotion\", fontsize = 15)\n",
    "plt.ylabel(\"Number of employees\", fontsize = 15)\n",
    "plt.title(\"Number of employees promoted and their department\", fontsize = 18)\n",
    "plt.xticks(fontsize = 12,rotation = 45)\n",
    "plt.yticks(fontsize = 12)\n",
    "for p in plot.patches:\n",
    "        plot.annotate('{:.0f}'.format(p.get_height()), (p.get_x()+0.03, p.get_height()+300))"
   ]
  },
  {
   "cell_type": "markdown",
   "metadata": {},
   "source": [
    "#### The contributions of the different departments towards promoted employees are:\n",
    "\n",
    "#### Sales and Marketing: 25.98%\n",
    "#### Operations: 21.91%\n",
    "#### Legal: 21.12%\n",
    "#### R&D: 19.92%\n",
    "#### Finance: 16.45%\n",
    "#### Analytics: 10.96%\n",
    "#### Procurement: 14.7% \n",
    "#### HR: 2.9%"
   ]
  },
  {
   "cell_type": "markdown",
   "metadata": {},
   "source": [
    "#### Are referrals getting promotion or outside hires?"
   ]
  },
  {
   "cell_type": "code",
   "execution_count": 38,
   "metadata": {},
   "outputs": [
    {
     "data": {
      "image/png": "[encoded data removed]",
      "text/plain": [
       "<Figure size 1440x576 with 1 Axes>"
      ]
     },
     "metadata": {
      "needs_background": "light"
     },
     "output_type": "display_data"
    }
   ],
   "source": [
    "plt.figure(figsize = (20,8))\n",
    "plot = train.groupby(['recruitment_channel'])['is_promoted'].value_counts().sort_values(ascending = False).plot.bar()\n",
    "plt.xlabel(\"Recruitment Channel and Promotion\", fontsize = 15)\n",
    "plt.ylabel(\"Number of employees\", fontsize = 15)\n",
    "plt.title(\"Number of employees promoted and their recruitment channel\", fontsize = 18)\n",
    "plt.xticks(fontsize = 12,rotation = 45)\n",
    "plt.yticks(fontsize = 12)\n",
    "for p in plot.patches:\n",
    "        plot.annotate('{:.0f}'.format(p.get_height()), (p.get_x()+0.03, p.get_height()+300))"
   ]
  },
  {
   "cell_type": "markdown",
   "metadata": {},
   "source": [
    "#### The contributions of the different departments towards promoted employees are:\n",
    "\n",
    "#### Sourcing: 42.28%. In sourcing 8.5% were promoted.\n",
    "#### Other: 54.75% In others 8.3% were promoted\n",
    "#### Referral: 2.95% In referral 12.08% were promoted"
   ]
  },
  {
   "cell_type": "markdown",
   "metadata": {},
   "source": [
    "#### Looking at the relationship between the number of trainings, training score and promotion"
   ]
  },
  {
   "cell_type": "code",
   "execution_count": 39,
   "metadata": {},
   "outputs": [
    {
     "data": {
      "image/png": "[encoded data removed]",
      "text/plain": [
       "<Figure size 1440x576 with 1 Axes>"
      ]
     },
     "metadata": {
      "needs_background": "light"
     },
     "output_type": "display_data"
    }
   ],
   "source": [
    "plt.figure(figsize = (20,8))\n",
    "plot = sb.scatterplot(x = 'no_of_trainings', y ='avg_training_score', hue= 'is_promoted', data = train)\n",
    "plt.xlabel(\"Recruitment Channel and Promotion\", fontsize = 15)\n",
    "plt.ylabel(\"Number of employees\", fontsize = 15)\n",
    "plt.title(\"Number of employees promoted and their recruitment channel\", fontsize = 18)\n",
    "plt.xticks(fontsize = 12,rotation = 45)\n",
    "plt.yticks(fontsize = 12)\n",
    "for p in plot.patches:\n",
    "        plot.annotate('{:.0f}'.format(p.get_height()), (p.get_x()+0.03, p.get_height()+300))"
   ]
  },
  {
   "cell_type": "markdown",
   "metadata": {},
   "source": [
    "#### Here we can see that majority of the employees who got promoted had high training scores but there were very few employees who got promoted and took more than 4 trainings."
   ]
  },
  {
   "cell_type": "markdown",
   "metadata": {},
   "source": [
    "#### How many people got promoted from each region"
   ]
  },
  {
   "cell_type": "code",
   "execution_count": 40,
   "metadata": {},
   "outputs": [
    {
     "data": {
      "image/png": "[encoded data removed]",
      "text/plain": [
       "<Figure size 1440x576 with 1 Axes>"
      ]
     },
     "metadata": {
      "needs_background": "light"
     },
     "output_type": "display_data"
    }
   ],
   "source": [
    "plt.figure(figsize = (20,8))\n",
    "promoted = train[train['is_promoted'] == \"1\"]\n",
    "plot = promoted.groupby(['region'])['is_promoted'].value_counts().sort_values(ascending = False).plot.bar()\n",
    "plt.xlabel(\"Employee Region and Promotion\", fontsize = 15)\n",
    "plt.ylabel(\"Number of employees\", fontsize = 15)\n",
    "plt.title(\"Number of employees promoted and their region\", fontsize = 18)\n",
    "plt.xticks(fontsize = 12,rotation = 45)\n",
    "plt.yticks(fontsize = 12)\n",
    "for p in plot.patches:\n",
    "        plot.annotate('{:.0f}'.format(p.get_height()), (p.get_x()+0.1, p.get_height()+10))"
   ]
  },
  {
   "cell_type": "markdown",
   "metadata": {},
   "source": [
    "#### 4 out of 34 regions contribute to 53% of the employees being promoted"
   ]
  },
  {
   "cell_type": "markdown",
   "metadata": {},
   "source": [
    "#### How are ratings impacting promotion in different departments?"
   ]
  },
  {
   "cell_type": "code",
   "execution_count": 41,
   "metadata": {
    "scrolled": false
   },
   "outputs": [
    {
     "data": {
      "image/png": "[encoded data removed]",
      "text/plain": [
       "<Figure size 429.5x3240 with 9 Axes>"
      ]
     },
     "metadata": {
      "needs_background": "light"
     },
     "output_type": "display_data"
    }
   ],
   "source": [
    "plot = sb.catplot(x = \"previous_year_rating\", hue = \"is_promoted\", row = \"department\", data = promoted, kind = \"count\")"
   ]
  },
  {
   "cell_type": "markdown",
   "metadata": {},
   "source": [
    "#### Here we can see very few employees are promoted from the HR, Operations and Analytics Department"
   ]
  },
  {
   "cell_type": "markdown",
   "metadata": {},
   "source": [
    "#### What is the gender diversity  in the different departments?"
   ]
  },
  {
   "cell_type": "markdown",
   "metadata": {},
   "source": [
    "#### There is high imbalance of gender in the sales & marketing domain where females represent 18.72% "
   ]
  },
  {
   "cell_type": "code",
   "execution_count": 42,
   "metadata": {},
   "outputs": [],
   "source": [
    "gender_diversity = pd.DataFrame(train.groupby(['department','gender'])['gender'].count())\n",
    "gender_diversity['percent'] = gender_diversity['gender']/(gender_diversity.groupby('department')['gender'].sum()) * 100"
   ]
  },
  {
   "cell_type": "code",
   "execution_count": 43,
   "metadata": {
    "scrolled": false
   },
   "outputs": [
    {
     "data": {
      "image/png": "[encoded data removed]",
      "text/plain": [
       "<Figure size 1440x576 with 1 Axes>"
      ]
     },
     "metadata": {
      "needs_background": "light"
     },
     "output_type": "display_data"
    }
   ],
   "source": [
    "plt.figure(figsize = (20,8))\n",
    "plot = gender_diversity['percent'].plot.bar()\n",
    "plt.xlabel(\"Gender\", fontsize = 15)\n",
    "plt.ylabel(\"Percentage of total employees in the department\", fontsize = 15)\n",
    "plt.title(\"Gender Diversity in different departments\", fontsize = 18)\n",
    "plt.xticks(fontsize = 12,rotation = 45)\n",
    "plt.yticks(fontsize = 12)\n",
    "for p in plot.patches:\n",
    "        plot.annotate('{:.0f}'.format(p.get_height()), (p.get_x()+0.1, p.get_height()+ 1))"
   ]
  },
  {
   "cell_type": "markdown",
   "metadata": {},
   "source": [
    "#### We can see some balance in gender diversity in departments like Operations and Procurment while high imbalance in R&D (where 96% are male), Analytics (90% are male)"
   ]
  },
  {
   "cell_type": "markdown",
   "metadata": {},
   "source": [
    "#### Does the gender affect promotion in the departments?"
   ]
  },
  {
   "cell_type": "code",
   "execution_count": 44,
   "metadata": {},
   "outputs": [
    {
     "data": {
      "image/png": "[encoded data removed]",
      "text/plain": [
       "<Figure size 1440x576 with 1 Axes>"
      ]
     },
     "metadata": {
      "needs_background": "light"
     },
     "output_type": "display_data"
    }
   ],
   "source": [
    "gender_bias = pd.DataFrame(promoted.groupby(['department','gender'])['is_promoted'].count())\n",
    "gender_bias['percent'] = gender_bias['is_promoted']/(gender_bias.groupby(['department'])['is_promoted'].sum()) * 100\n",
    "plt.figure(figsize = (20,8))\n",
    "plot = gender_bias['percent'].plot.bar()\n",
    "plt.xlabel(\"Gender\", fontsize = 15)\n",
    "plt.ylabel(\"Percentage of employees promoted in the department\", fontsize = 15)\n",
    "plt.title(\"Gender bias in promotion\", fontsize = 18)\n",
    "plt.xticks(fontsize = 12,rotation = 45)\n",
    "plt.yticks(fontsize = 12)\n",
    "for p in plot.patches:\n",
    "        plot.annotate('{:.0f}'.format(p.get_height()), (p.get_x()+0.1, p.get_height()+ 1))"
   ]
  },
  {
   "cell_type": "markdown",
   "metadata": {},
   "source": [
    "#### Here we can see why there are few female employees getting promoted because of the bad gender diversity displayed in the previous chart"
   ]
  },
  {
   "cell_type": "code",
   "execution_count": 45,
   "metadata": {},
   "outputs": [
    {
     "data": {
      "text/html": [
       "<div>\n",
       "<style scoped>\n",
       "    .dataframe tbody tr th:only-of-type {\n",
       "        vertical-align: middle;\n",
       "    }\n",
       "\n",
       "    .dataframe tbody tr th {\n",
       "        vertical-align: top;\n",
       "    }\n",
       "\n",
       "    .dataframe thead th {\n",
       "        text-align: right;\n",
       "    }\n",
       "</style>\n",
       "<table border=\"1\" class=\"dataframe\">\n",
       "  <thead>\n",
       "    <tr style=\"text-align: right;\">\n",
       "      <th></th>\n",
       "      <th>employee_id</th>\n",
       "      <th>department</th>\n",
       "      <th>region</th>\n",
       "      <th>education</th>\n",
       "      <th>gender</th>\n",
       "      <th>recruitment_channel</th>\n",
       "      <th>no_of_trainings</th>\n",
       "      <th>age</th>\n",
       "      <th>previous_year_rating</th>\n",
       "      <th>length_of_service</th>\n",
       "      <th>KPIs_met &gt;80%</th>\n",
       "      <th>awards_won?</th>\n",
       "      <th>avg_training_score</th>\n",
       "      <th>is_promoted</th>\n",
       "      <th>Age Group</th>\n",
       "      <th>joining age</th>\n",
       "      <th>Age Join Group</th>\n",
       "    </tr>\n",
       "  </thead>\n",
       "  <tbody>\n",
       "    <tr>\n",
       "      <th>0</th>\n",
       "      <td>65438</td>\n",
       "      <td>Sales &amp; Marketing</td>\n",
       "      <td>region_7</td>\n",
       "      <td>Master's &amp; above</td>\n",
       "      <td>Female</td>\n",
       "      <td>sourcing</td>\n",
       "      <td>1</td>\n",
       "      <td>35</td>\n",
       "      <td>5.0</td>\n",
       "      <td>8</td>\n",
       "      <td>1</td>\n",
       "      <td>0</td>\n",
       "      <td>49</td>\n",
       "      <td>0</td>\n",
       "      <td>28 to 35</td>\n",
       "      <td>27</td>\n",
       "      <td>22 to 26</td>\n",
       "    </tr>\n",
       "    <tr>\n",
       "      <th>1</th>\n",
       "      <td>65141</td>\n",
       "      <td>Operations</td>\n",
       "      <td>region_22</td>\n",
       "      <td>Bachelor's</td>\n",
       "      <td>Male</td>\n",
       "      <td>other</td>\n",
       "      <td>1</td>\n",
       "      <td>30</td>\n",
       "      <td>5.0</td>\n",
       "      <td>4</td>\n",
       "      <td>0</td>\n",
       "      <td>0</td>\n",
       "      <td>60</td>\n",
       "      <td>0</td>\n",
       "      <td>28 to 35</td>\n",
       "      <td>26</td>\n",
       "      <td>22 to 26</td>\n",
       "    </tr>\n",
       "    <tr>\n",
       "      <th>2</th>\n",
       "      <td>7513</td>\n",
       "      <td>Sales &amp; Marketing</td>\n",
       "      <td>region_19</td>\n",
       "      <td>Bachelor's</td>\n",
       "      <td>Male</td>\n",
       "      <td>sourcing</td>\n",
       "      <td>1</td>\n",
       "      <td>34</td>\n",
       "      <td>3.0</td>\n",
       "      <td>7</td>\n",
       "      <td>0</td>\n",
       "      <td>0</td>\n",
       "      <td>50</td>\n",
       "      <td>0</td>\n",
       "      <td>28 to 35</td>\n",
       "      <td>27</td>\n",
       "      <td>22 to 26</td>\n",
       "    </tr>\n",
       "    <tr>\n",
       "      <th>3</th>\n",
       "      <td>2542</td>\n",
       "      <td>Sales &amp; Marketing</td>\n",
       "      <td>region_23</td>\n",
       "      <td>Bachelor's</td>\n",
       "      <td>Male</td>\n",
       "      <td>other</td>\n",
       "      <td>2</td>\n",
       "      <td>39</td>\n",
       "      <td>1.0</td>\n",
       "      <td>10</td>\n",
       "      <td>0</td>\n",
       "      <td>0</td>\n",
       "      <td>50</td>\n",
       "      <td>0</td>\n",
       "      <td>36 to 44</td>\n",
       "      <td>29</td>\n",
       "      <td>27 to 29</td>\n",
       "    </tr>\n",
       "    <tr>\n",
       "      <th>4</th>\n",
       "      <td>48945</td>\n",
       "      <td>Technology</td>\n",
       "      <td>region_26</td>\n",
       "      <td>Bachelor's</td>\n",
       "      <td>Male</td>\n",
       "      <td>other</td>\n",
       "      <td>1</td>\n",
       "      <td>45</td>\n",
       "      <td>3.0</td>\n",
       "      <td>2</td>\n",
       "      <td>0</td>\n",
       "      <td>0</td>\n",
       "      <td>73</td>\n",
       "      <td>0</td>\n",
       "      <td>36 to 44</td>\n",
       "      <td>43</td>\n",
       "      <td>40 to 59</td>\n",
       "    </tr>\n",
       "  </tbody>\n",
       "</table>\n",
       "</div>"
      ],
      "text/plain": [
       "   employee_id         department     region         education  gender  \\\n",
       "0        65438  Sales & Marketing   region_7  Master's & above  Female   \n",
       "1        65141         Operations  region_22        Bachelor's    Male   \n",
       "2         7513  Sales & Marketing  region_19        Bachelor's    Male   \n",
       "3         2542  Sales & Marketing  region_23        Bachelor's    Male   \n",
       "4        48945         Technology  region_26        Bachelor's    Male   \n",
       "\n",
       "  recruitment_channel  no_of_trainings  age previous_year_rating  \\\n",
       "0            sourcing                1   35                  5.0   \n",
       "1               other                1   30                  5.0   \n",
       "2            sourcing                1   34                  3.0   \n",
       "3               other                2   39                  1.0   \n",
       "4               other                1   45                  3.0   \n",
       "\n",
       "   length_of_service KPIs_met >80% awards_won?  avg_training_score  \\\n",
       "0                  8             1           0                  49   \n",
       "1                  4             0           0                  60   \n",
       "2                  7             0           0                  50   \n",
       "3                 10             0           0                  50   \n",
       "4                  2             0           0                  73   \n",
       "\n",
       "  is_promoted Age Group  joining age Age Join Group  \n",
       "0           0  28 to 35           27       22 to 26  \n",
       "1           0  28 to 35           26       22 to 26  \n",
       "2           0  28 to 35           27       22 to 26  \n",
       "3           0  36 to 44           29       27 to 29  \n",
       "4           0  36 to 44           43       40 to 59  "
      ]
     },
     "execution_count": 45,
     "metadata": {},
     "output_type": "execute_result"
    }
   ],
   "source": [
    "train.head()"
   ]
  },
  {
   "cell_type": "markdown",
   "metadata": {},
   "source": [
    "#### Are internal  meeting the targets or external hires?"
   ]
  },
  {
   "cell_type": "code",
   "execution_count": 46,
   "metadata": {},
   "outputs": [
    {
     "data": {
      "text/html": [
       "<div>\n",
       "<style scoped>\n",
       "    .dataframe tbody tr th:only-of-type {\n",
       "        vertical-align: middle;\n",
       "    }\n",
       "\n",
       "    .dataframe tbody tr th {\n",
       "        vertical-align: top;\n",
       "    }\n",
       "\n",
       "    .dataframe thead th {\n",
       "        text-align: right;\n",
       "    }\n",
       "</style>\n",
       "<table border=\"1\" class=\"dataframe\">\n",
       "  <thead>\n",
       "    <tr style=\"text-align: right;\">\n",
       "      <th></th>\n",
       "      <th></th>\n",
       "      <th>KPIs_met &gt;80%</th>\n",
       "      <th>percent</th>\n",
       "    </tr>\n",
       "    <tr>\n",
       "      <th>recruitment_channel</th>\n",
       "      <th>KPIs_met &gt;80%</th>\n",
       "      <th></th>\n",
       "      <th></th>\n",
       "    </tr>\n",
       "  </thead>\n",
       "  <tbody>\n",
       "    <tr>\n",
       "      <th rowspan=\"2\" valign=\"top\">other</th>\n",
       "      <th>0</th>\n",
       "      <td>19815</td>\n",
       "      <td>65.082441</td>\n",
       "    </tr>\n",
       "    <tr>\n",
       "      <th>1</th>\n",
       "      <td>10631</td>\n",
       "      <td>34.917559</td>\n",
       "    </tr>\n",
       "    <tr>\n",
       "      <th rowspan=\"2\" valign=\"top\">referred</th>\n",
       "      <th>0</th>\n",
       "      <td>562</td>\n",
       "      <td>49.211909</td>\n",
       "    </tr>\n",
       "    <tr>\n",
       "      <th>1</th>\n",
       "      <td>580</td>\n",
       "      <td>50.788091</td>\n",
       "    </tr>\n",
       "    <tr>\n",
       "      <th rowspan=\"2\" valign=\"top\">sourcing</th>\n",
       "      <th>0</th>\n",
       "      <td>15140</td>\n",
       "      <td>65.202412</td>\n",
       "    </tr>\n",
       "    <tr>\n",
       "      <th>1</th>\n",
       "      <td>8080</td>\n",
       "      <td>34.797588</td>\n",
       "    </tr>\n",
       "  </tbody>\n",
       "</table>\n",
       "</div>"
      ],
      "text/plain": [
       "                                   KPIs_met >80%    percent\n",
       "recruitment_channel KPIs_met >80%                          \n",
       "other               0                      19815  65.082441\n",
       "                    1                      10631  34.917559\n",
       "referred            0                        562  49.211909\n",
       "                    1                        580  50.788091\n",
       "sourcing            0                      15140  65.202412\n",
       "                    1                       8080  34.797588"
      ]
     },
     "execution_count": 46,
     "metadata": {},
     "output_type": "execute_result"
    }
   ],
   "source": [
    "hiring = pd.DataFrame(train.groupby(['recruitment_channel','KPIs_met >80%'])['KPIs_met >80%'].count())\n",
    "hiring['percent'] = (hiring['KPIs_met >80%']/hiring.groupby(['recruitment_channel'])['KPIs_met >80%'].sum()) * 100\n",
    "hiring"
   ]
  },
  {
   "cell_type": "code",
   "execution_count": 47,
   "metadata": {},
   "outputs": [
    {
     "data": {
      "image/png": "[encoded data removed]",
      "text/plain": [
       "<Figure size 1440x576 with 1 Axes>"
      ]
     },
     "metadata": {
      "needs_background": "light"
     },
     "output_type": "display_data"
    }
   ],
   "source": [
    "plt.figure(figsize = (20,8))\n",
    "plot = hiring['percent'].sort_values(ascending = False).plot.bar()\n",
    "plt.xlabel(\"Gender\", fontsize = 15)\n",
    "plt.ylabel(\"Number of employees\", fontsize = 15)\n",
    "plt.title(\"Number of employees in different departments and their gender\", fontsize = 18)\n",
    "plt.xticks(fontsize = 12,rotation = 45)\n",
    "plt.yticks(fontsize = 12)\n",
    "for p in plot.patches:\n",
    "        plot.annotate('{:.0f}'.format(p.get_height()), (p.get_x()+0.1, p.get_height()+ 0.5))"
   ]
  },
  {
   "cell_type": "markdown",
   "metadata": {},
   "source": [
    "#### 50% of referrals and 34% of each of sourcing and others are reaching their targets"
   ]
  },
  {
   "cell_type": "markdown",
   "metadata": {},
   "source": [
    "#### Finding the correlation among the variables"
   ]
  },
  {
   "cell_type": "code",
   "execution_count": 144,
   "metadata": {},
   "outputs": [
    {
     "data": {
      "image/png": "[encoded data removed]",
      "text/plain": [
       "<Figure size 1440x576 with 2 Axes>"
      ]
     },
     "metadata": {
      "needs_background": "light"
     },
     "output_type": "display_data"
    }
   ],
   "source": [
    "cont_var = train[['age', 'length_of_service','avg_training_score','joining age']]\n",
    "corr = cont_var.corr()\n",
    "ax = sb.heatmap(\n",
    "    corr, \n",
    "    vmin = -1, vmax = 1, center = 0,\n",
    "    cmap = sb.diverging_palette(20, 220, n = 200),\n",
    "    square=True\n",
    ")\n",
    "ax.set_xticklabels(\n",
    "    ax.get_xticklabels(),\n",
    "    rotation = 45,\n",
    "    horizontalalignment ='right'\n",
    ");"
   ]
  },
  {
   "cell_type": "markdown",
   "metadata": {},
   "source": [
    "### Model Building"
   ]
  },
  {
   "cell_type": "code",
   "execution_count": 48,
   "metadata": {
    "scrolled": true
   },
   "outputs": [
    {
     "data": {
      "text/html": [
       "<div>\n",
       "<style scoped>\n",
       "    .dataframe tbody tr th:only-of-type {\n",
       "        vertical-align: middle;\n",
       "    }\n",
       "\n",
       "    .dataframe tbody tr th {\n",
       "        vertical-align: top;\n",
       "    }\n",
       "\n",
       "    .dataframe thead th {\n",
       "        text-align: right;\n",
       "    }\n",
       "</style>\n",
       "<table border=\"1\" class=\"dataframe\">\n",
       "  <thead>\n",
       "    <tr style=\"text-align: right;\">\n",
       "      <th></th>\n",
       "      <th>employee_id</th>\n",
       "      <th>department</th>\n",
       "      <th>region</th>\n",
       "      <th>education</th>\n",
       "      <th>gender</th>\n",
       "      <th>recruitment_channel</th>\n",
       "      <th>no_of_trainings</th>\n",
       "      <th>age</th>\n",
       "      <th>previous_year_rating</th>\n",
       "      <th>length_of_service</th>\n",
       "      <th>KPIs_met &gt;80%</th>\n",
       "      <th>awards_won?</th>\n",
       "      <th>avg_training_score</th>\n",
       "      <th>is_promoted</th>\n",
       "      <th>Age Group</th>\n",
       "      <th>joining age</th>\n",
       "      <th>Age Join Group</th>\n",
       "    </tr>\n",
       "  </thead>\n",
       "  <tbody>\n",
       "    <tr>\n",
       "      <th>0</th>\n",
       "      <td>65438</td>\n",
       "      <td>Sales &amp; Marketing</td>\n",
       "      <td>region_7</td>\n",
       "      <td>Master's &amp; above</td>\n",
       "      <td>Female</td>\n",
       "      <td>sourcing</td>\n",
       "      <td>1</td>\n",
       "      <td>35</td>\n",
       "      <td>5.0</td>\n",
       "      <td>8</td>\n",
       "      <td>1</td>\n",
       "      <td>0</td>\n",
       "      <td>49</td>\n",
       "      <td>0</td>\n",
       "      <td>28 to 35</td>\n",
       "      <td>27</td>\n",
       "      <td>22 to 26</td>\n",
       "    </tr>\n",
       "    <tr>\n",
       "      <th>1</th>\n",
       "      <td>65141</td>\n",
       "      <td>Operations</td>\n",
       "      <td>region_22</td>\n",
       "      <td>Bachelor's</td>\n",
       "      <td>Male</td>\n",
       "      <td>other</td>\n",
       "      <td>1</td>\n",
       "      <td>30</td>\n",
       "      <td>5.0</td>\n",
       "      <td>4</td>\n",
       "      <td>0</td>\n",
       "      <td>0</td>\n",
       "      <td>60</td>\n",
       "      <td>0</td>\n",
       "      <td>28 to 35</td>\n",
       "      <td>26</td>\n",
       "      <td>22 to 26</td>\n",
       "    </tr>\n",
       "    <tr>\n",
       "      <th>2</th>\n",
       "      <td>7513</td>\n",
       "      <td>Sales &amp; Marketing</td>\n",
       "      <td>region_19</td>\n",
       "      <td>Bachelor's</td>\n",
       "      <td>Male</td>\n",
       "      <td>sourcing</td>\n",
       "      <td>1</td>\n",
       "      <td>34</td>\n",
       "      <td>3.0</td>\n",
       "      <td>7</td>\n",
       "      <td>0</td>\n",
       "      <td>0</td>\n",
       "      <td>50</td>\n",
       "      <td>0</td>\n",
       "      <td>28 to 35</td>\n",
       "      <td>27</td>\n",
       "      <td>22 to 26</td>\n",
       "    </tr>\n",
       "    <tr>\n",
       "      <th>3</th>\n",
       "      <td>2542</td>\n",
       "      <td>Sales &amp; Marketing</td>\n",
       "      <td>region_23</td>\n",
       "      <td>Bachelor's</td>\n",
       "      <td>Male</td>\n",
       "      <td>other</td>\n",
       "      <td>2</td>\n",
       "      <td>39</td>\n",
       "      <td>1.0</td>\n",
       "      <td>10</td>\n",
       "      <td>0</td>\n",
       "      <td>0</td>\n",
       "      <td>50</td>\n",
       "      <td>0</td>\n",
       "      <td>36 to 44</td>\n",
       "      <td>29</td>\n",
       "      <td>27 to 29</td>\n",
       "    </tr>\n",
       "    <tr>\n",
       "      <th>4</th>\n",
       "      <td>48945</td>\n",
       "      <td>Technology</td>\n",
       "      <td>region_26</td>\n",
       "      <td>Bachelor's</td>\n",
       "      <td>Male</td>\n",
       "      <td>other</td>\n",
       "      <td>1</td>\n",
       "      <td>45</td>\n",
       "      <td>3.0</td>\n",
       "      <td>2</td>\n",
       "      <td>0</td>\n",
       "      <td>0</td>\n",
       "      <td>73</td>\n",
       "      <td>0</td>\n",
       "      <td>36 to 44</td>\n",
       "      <td>43</td>\n",
       "      <td>40 to 59</td>\n",
       "    </tr>\n",
       "  </tbody>\n",
       "</table>\n",
       "</div>"
      ],
      "text/plain": [
       "   employee_id         department     region         education  gender  \\\n",
       "0        65438  Sales & Marketing   region_7  Master's & above  Female   \n",
       "1        65141         Operations  region_22        Bachelor's    Male   \n",
       "2         7513  Sales & Marketing  region_19        Bachelor's    Male   \n",
       "3         2542  Sales & Marketing  region_23        Bachelor's    Male   \n",
       "4        48945         Technology  region_26        Bachelor's    Male   \n",
       "\n",
       "  recruitment_channel  no_of_trainings  age previous_year_rating  \\\n",
       "0            sourcing                1   35                  5.0   \n",
       "1               other                1   30                  5.0   \n",
       "2            sourcing                1   34                  3.0   \n",
       "3               other                2   39                  1.0   \n",
       "4               other                1   45                  3.0   \n",
       "\n",
       "   length_of_service KPIs_met >80% awards_won?  avg_training_score  \\\n",
       "0                  8             1           0                  49   \n",
       "1                  4             0           0                  60   \n",
       "2                  7             0           0                  50   \n",
       "3                 10             0           0                  50   \n",
       "4                  2             0           0                  73   \n",
       "\n",
       "  is_promoted Age Group  joining age Age Join Group  \n",
       "0           0  28 to 35           27       22 to 26  \n",
       "1           0  28 to 35           26       22 to 26  \n",
       "2           0  28 to 35           27       22 to 26  \n",
       "3           0  36 to 44           29       27 to 29  \n",
       "4           0  36 to 44           43       40 to 59  "
      ]
     },
     "execution_count": 48,
     "metadata": {},
     "output_type": "execute_result"
    }
   ],
   "source": [
    "train.head()"
   ]
  },
  {
   "cell_type": "code",
   "execution_count": 49,
   "metadata": {},
   "outputs": [
    {
     "data": {
      "text/plain": [
       "Bachelor's          38659\n",
       "Master's & above    15344\n",
       "Below Secondary       805\n",
       "Name: education, dtype: int64"
      ]
     },
     "execution_count": 49,
     "metadata": {},
     "output_type": "execute_result"
    }
   ],
   "source": [
    "train['education'].value_counts()"
   ]
  },
  {
   "cell_type": "code",
   "execution_count": 50,
   "metadata": {},
   "outputs": [],
   "source": [
    "train.loc[train['education'] == \"Bachelor's\", 'education'] = 1\n",
    "train.loc[train['education'] == \"Below Secondary\", 'education'] = 2\n",
    "train.loc[train['education'] == \"Master's & above\", 'education'] = 3"
   ]
  },
  {
   "cell_type": "code",
   "execution_count": 51,
   "metadata": {},
   "outputs": [
    {
     "data": {
      "text/plain": [
       "1    38659\n",
       "3    15344\n",
       "2      805\n",
       "Name: education, dtype: int64"
      ]
     },
     "execution_count": 51,
     "metadata": {},
     "output_type": "execute_result"
    }
   ],
   "source": [
    "train['education'].value_counts()"
   ]
  },
  {
   "cell_type": "code",
   "execution_count": 52,
   "metadata": {},
   "outputs": [],
   "source": [
    "train['total_score'] = train['no_of_trainings'] * train['avg_training_score']"
   ]
  },
  {
   "cell_type": "code",
   "execution_count": 53,
   "metadata": {},
   "outputs": [
    {
     "data": {
      "text/html": [
       "<div>\n",
       "<style scoped>\n",
       "    .dataframe tbody tr th:only-of-type {\n",
       "        vertical-align: middle;\n",
       "    }\n",
       "\n",
       "    .dataframe tbody tr th {\n",
       "        vertical-align: top;\n",
       "    }\n",
       "\n",
       "    .dataframe thead th {\n",
       "        text-align: right;\n",
       "    }\n",
       "</style>\n",
       "<table border=\"1\" class=\"dataframe\">\n",
       "  <thead>\n",
       "    <tr style=\"text-align: right;\">\n",
       "      <th></th>\n",
       "      <th>employee_id</th>\n",
       "      <th>department</th>\n",
       "      <th>region</th>\n",
       "      <th>education</th>\n",
       "      <th>gender</th>\n",
       "      <th>recruitment_channel</th>\n",
       "      <th>no_of_trainings</th>\n",
       "      <th>age</th>\n",
       "      <th>previous_year_rating</th>\n",
       "      <th>length_of_service</th>\n",
       "      <th>KPIs_met &gt;80%</th>\n",
       "      <th>awards_won?</th>\n",
       "      <th>avg_training_score</th>\n",
       "      <th>is_promoted</th>\n",
       "      <th>Age Group</th>\n",
       "      <th>joining age</th>\n",
       "      <th>Age Join Group</th>\n",
       "      <th>total_score</th>\n",
       "    </tr>\n",
       "  </thead>\n",
       "  <tbody>\n",
       "    <tr>\n",
       "      <th>0</th>\n",
       "      <td>65438</td>\n",
       "      <td>Sales &amp; Marketing</td>\n",
       "      <td>region_7</td>\n",
       "      <td>3</td>\n",
       "      <td>Female</td>\n",
       "      <td>sourcing</td>\n",
       "      <td>1</td>\n",
       "      <td>35</td>\n",
       "      <td>5.0</td>\n",
       "      <td>8</td>\n",
       "      <td>1</td>\n",
       "      <td>0</td>\n",
       "      <td>49</td>\n",
       "      <td>0</td>\n",
       "      <td>28 to 35</td>\n",
       "      <td>27</td>\n",
       "      <td>22 to 26</td>\n",
       "      <td>49</td>\n",
       "    </tr>\n",
       "    <tr>\n",
       "      <th>1</th>\n",
       "      <td>65141</td>\n",
       "      <td>Operations</td>\n",
       "      <td>region_22</td>\n",
       "      <td>1</td>\n",
       "      <td>Male</td>\n",
       "      <td>other</td>\n",
       "      <td>1</td>\n",
       "      <td>30</td>\n",
       "      <td>5.0</td>\n",
       "      <td>4</td>\n",
       "      <td>0</td>\n",
       "      <td>0</td>\n",
       "      <td>60</td>\n",
       "      <td>0</td>\n",
       "      <td>28 to 35</td>\n",
       "      <td>26</td>\n",
       "      <td>22 to 26</td>\n",
       "      <td>60</td>\n",
       "    </tr>\n",
       "    <tr>\n",
       "      <th>2</th>\n",
       "      <td>7513</td>\n",
       "      <td>Sales &amp; Marketing</td>\n",
       "      <td>region_19</td>\n",
       "      <td>1</td>\n",
       "      <td>Male</td>\n",
       "      <td>sourcing</td>\n",
       "      <td>1</td>\n",
       "      <td>34</td>\n",
       "      <td>3.0</td>\n",
       "      <td>7</td>\n",
       "      <td>0</td>\n",
       "      <td>0</td>\n",
       "      <td>50</td>\n",
       "      <td>0</td>\n",
       "      <td>28 to 35</td>\n",
       "      <td>27</td>\n",
       "      <td>22 to 26</td>\n",
       "      <td>50</td>\n",
       "    </tr>\n",
       "    <tr>\n",
       "      <th>3</th>\n",
       "      <td>2542</td>\n",
       "      <td>Sales &amp; Marketing</td>\n",
       "      <td>region_23</td>\n",
       "      <td>1</td>\n",
       "      <td>Male</td>\n",
       "      <td>other</td>\n",
       "      <td>2</td>\n",
       "      <td>39</td>\n",
       "      <td>1.0</td>\n",
       "      <td>10</td>\n",
       "      <td>0</td>\n",
       "      <td>0</td>\n",
       "      <td>50</td>\n",
       "      <td>0</td>\n",
       "      <td>36 to 44</td>\n",
       "      <td>29</td>\n",
       "      <td>27 to 29</td>\n",
       "      <td>100</td>\n",
       "    </tr>\n",
       "    <tr>\n",
       "      <th>4</th>\n",
       "      <td>48945</td>\n",
       "      <td>Technology</td>\n",
       "      <td>region_26</td>\n",
       "      <td>1</td>\n",
       "      <td>Male</td>\n",
       "      <td>other</td>\n",
       "      <td>1</td>\n",
       "      <td>45</td>\n",
       "      <td>3.0</td>\n",
       "      <td>2</td>\n",
       "      <td>0</td>\n",
       "      <td>0</td>\n",
       "      <td>73</td>\n",
       "      <td>0</td>\n",
       "      <td>36 to 44</td>\n",
       "      <td>43</td>\n",
       "      <td>40 to 59</td>\n",
       "      <td>73</td>\n",
       "    </tr>\n",
       "  </tbody>\n",
       "</table>\n",
       "</div>"
      ],
      "text/plain": [
       "   employee_id         department     region  education  gender  \\\n",
       "0        65438  Sales & Marketing   region_7          3  Female   \n",
       "1        65141         Operations  region_22          1    Male   \n",
       "2         7513  Sales & Marketing  region_19          1    Male   \n",
       "3         2542  Sales & Marketing  region_23          1    Male   \n",
       "4        48945         Technology  region_26          1    Male   \n",
       "\n",
       "  recruitment_channel  no_of_trainings  age previous_year_rating  \\\n",
       "0            sourcing                1   35                  5.0   \n",
       "1               other                1   30                  5.0   \n",
       "2            sourcing                1   34                  3.0   \n",
       "3               other                2   39                  1.0   \n",
       "4               other                1   45                  3.0   \n",
       "\n",
       "   length_of_service KPIs_met >80% awards_won?  avg_training_score  \\\n",
       "0                  8             1           0                  49   \n",
       "1                  4             0           0                  60   \n",
       "2                  7             0           0                  50   \n",
       "3                 10             0           0                  50   \n",
       "4                  2             0           0                  73   \n",
       "\n",
       "  is_promoted Age Group  joining age Age Join Group  total_score  \n",
       "0           0  28 to 35           27       22 to 26           49  \n",
       "1           0  28 to 35           26       22 to 26           60  \n",
       "2           0  28 to 35           27       22 to 26           50  \n",
       "3           0  36 to 44           29       27 to 29          100  \n",
       "4           0  36 to 44           43       40 to 59           73  "
      ]
     },
     "execution_count": 53,
     "metadata": {},
     "output_type": "execute_result"
    }
   ],
   "source": [
    "train.head()"
   ]
  },
  {
   "cell_type": "code",
   "execution_count": 54,
   "metadata": {},
   "outputs": [],
   "source": [
    "train = train.drop(['employee_id','region'], axis = 1)"
   ]
  },
  {
   "cell_type": "code",
   "execution_count": 55,
   "metadata": {},
   "outputs": [
    {
     "data": {
      "text/html": [
       "<div>\n",
       "<style scoped>\n",
       "    .dataframe tbody tr th:only-of-type {\n",
       "        vertical-align: middle;\n",
       "    }\n",
       "\n",
       "    .dataframe tbody tr th {\n",
       "        vertical-align: top;\n",
       "    }\n",
       "\n",
       "    .dataframe thead th {\n",
       "        text-align: right;\n",
       "    }\n",
       "</style>\n",
       "<table border=\"1\" class=\"dataframe\">\n",
       "  <thead>\n",
       "    <tr style=\"text-align: right;\">\n",
       "      <th></th>\n",
       "      <th>department</th>\n",
       "      <th>education</th>\n",
       "      <th>gender</th>\n",
       "      <th>recruitment_channel</th>\n",
       "      <th>no_of_trainings</th>\n",
       "      <th>age</th>\n",
       "      <th>previous_year_rating</th>\n",
       "      <th>length_of_service</th>\n",
       "      <th>KPIs_met &gt;80%</th>\n",
       "      <th>awards_won?</th>\n",
       "      <th>avg_training_score</th>\n",
       "      <th>is_promoted</th>\n",
       "      <th>Age Group</th>\n",
       "      <th>joining age</th>\n",
       "      <th>Age Join Group</th>\n",
       "      <th>total_score</th>\n",
       "    </tr>\n",
       "  </thead>\n",
       "  <tbody>\n",
       "    <tr>\n",
       "      <th>0</th>\n",
       "      <td>Sales &amp; Marketing</td>\n",
       "      <td>3</td>\n",
       "      <td>Female</td>\n",
       "      <td>sourcing</td>\n",
       "      <td>1</td>\n",
       "      <td>35</td>\n",
       "      <td>5.0</td>\n",
       "      <td>8</td>\n",
       "      <td>1</td>\n",
       "      <td>0</td>\n",
       "      <td>49</td>\n",
       "      <td>0</td>\n",
       "      <td>28 to 35</td>\n",
       "      <td>27</td>\n",
       "      <td>22 to 26</td>\n",
       "      <td>49</td>\n",
       "    </tr>\n",
       "    <tr>\n",
       "      <th>1</th>\n",
       "      <td>Operations</td>\n",
       "      <td>1</td>\n",
       "      <td>Male</td>\n",
       "      <td>other</td>\n",
       "      <td>1</td>\n",
       "      <td>30</td>\n",
       "      <td>5.0</td>\n",
       "      <td>4</td>\n",
       "      <td>0</td>\n",
       "      <td>0</td>\n",
       "      <td>60</td>\n",
       "      <td>0</td>\n",
       "      <td>28 to 35</td>\n",
       "      <td>26</td>\n",
       "      <td>22 to 26</td>\n",
       "      <td>60</td>\n",
       "    </tr>\n",
       "    <tr>\n",
       "      <th>2</th>\n",
       "      <td>Sales &amp; Marketing</td>\n",
       "      <td>1</td>\n",
       "      <td>Male</td>\n",
       "      <td>sourcing</td>\n",
       "      <td>1</td>\n",
       "      <td>34</td>\n",
       "      <td>3.0</td>\n",
       "      <td>7</td>\n",
       "      <td>0</td>\n",
       "      <td>0</td>\n",
       "      <td>50</td>\n",
       "      <td>0</td>\n",
       "      <td>28 to 35</td>\n",
       "      <td>27</td>\n",
       "      <td>22 to 26</td>\n",
       "      <td>50</td>\n",
       "    </tr>\n",
       "    <tr>\n",
       "      <th>3</th>\n",
       "      <td>Sales &amp; Marketing</td>\n",
       "      <td>1</td>\n",
       "      <td>Male</td>\n",
       "      <td>other</td>\n",
       "      <td>2</td>\n",
       "      <td>39</td>\n",
       "      <td>1.0</td>\n",
       "      <td>10</td>\n",
       "      <td>0</td>\n",
       "      <td>0</td>\n",
       "      <td>50</td>\n",
       "      <td>0</td>\n",
       "      <td>36 to 44</td>\n",
       "      <td>29</td>\n",
       "      <td>27 to 29</td>\n",
       "      <td>100</td>\n",
       "    </tr>\n",
       "    <tr>\n",
       "      <th>4</th>\n",
       "      <td>Technology</td>\n",
       "      <td>1</td>\n",
       "      <td>Male</td>\n",
       "      <td>other</td>\n",
       "      <td>1</td>\n",
       "      <td>45</td>\n",
       "      <td>3.0</td>\n",
       "      <td>2</td>\n",
       "      <td>0</td>\n",
       "      <td>0</td>\n",
       "      <td>73</td>\n",
       "      <td>0</td>\n",
       "      <td>36 to 44</td>\n",
       "      <td>43</td>\n",
       "      <td>40 to 59</td>\n",
       "      <td>73</td>\n",
       "    </tr>\n",
       "  </tbody>\n",
       "</table>\n",
       "</div>"
      ],
      "text/plain": [
       "          department  education  gender recruitment_channel  no_of_trainings  \\\n",
       "0  Sales & Marketing          3  Female            sourcing                1   \n",
       "1         Operations          1    Male               other                1   \n",
       "2  Sales & Marketing          1    Male            sourcing                1   \n",
       "3  Sales & Marketing          1    Male               other                2   \n",
       "4         Technology          1    Male               other                1   \n",
       "\n",
       "   age previous_year_rating  length_of_service KPIs_met >80% awards_won?  \\\n",
       "0   35                  5.0                  8             1           0   \n",
       "1   30                  5.0                  4             0           0   \n",
       "2   34                  3.0                  7             0           0   \n",
       "3   39                  1.0                 10             0           0   \n",
       "4   45                  3.0                  2             0           0   \n",
       "\n",
       "   avg_training_score is_promoted Age Group  joining age Age Join Group  \\\n",
       "0                  49           0  28 to 35           27       22 to 26   \n",
       "1                  60           0  28 to 35           26       22 to 26   \n",
       "2                  50           0  28 to 35           27       22 to 26   \n",
       "3                  50           0  36 to 44           29       27 to 29   \n",
       "4                  73           0  36 to 44           43       40 to 59   \n",
       "\n",
       "   total_score  \n",
       "0           49  \n",
       "1           60  \n",
       "2           50  \n",
       "3          100  \n",
       "4           73  "
      ]
     },
     "execution_count": 55,
     "metadata": {},
     "output_type": "execute_result"
    }
   ],
   "source": [
    "train.head()"
   ]
  },
  {
   "cell_type": "markdown",
   "metadata": {},
   "source": [
    "#### Encoding the categorical variables"
   ]
  },
  {
   "cell_type": "code",
   "execution_count": 56,
   "metadata": {},
   "outputs": [],
   "source": [
    "train = pd.get_dummies(train, columns = ['department','gender','recruitment_channel'], drop_first = True)"
   ]
  },
  {
   "cell_type": "code",
   "execution_count": 57,
   "metadata": {},
   "outputs": [
    {
     "data": {
      "text/html": [
       "<div>\n",
       "<style scoped>\n",
       "    .dataframe tbody tr th:only-of-type {\n",
       "        vertical-align: middle;\n",
       "    }\n",
       "\n",
       "    .dataframe tbody tr th {\n",
       "        vertical-align: top;\n",
       "    }\n",
       "\n",
       "    .dataframe thead th {\n",
       "        text-align: right;\n",
       "    }\n",
       "</style>\n",
       "<table border=\"1\" class=\"dataframe\">\n",
       "  <thead>\n",
       "    <tr style=\"text-align: right;\">\n",
       "      <th></th>\n",
       "      <th>education</th>\n",
       "      <th>no_of_trainings</th>\n",
       "      <th>age</th>\n",
       "      <th>previous_year_rating</th>\n",
       "      <th>length_of_service</th>\n",
       "      <th>KPIs_met &gt;80%</th>\n",
       "      <th>awards_won?</th>\n",
       "      <th>avg_training_score</th>\n",
       "      <th>is_promoted</th>\n",
       "      <th>Age Group</th>\n",
       "      <th>...</th>\n",
       "      <th>department_HR</th>\n",
       "      <th>department_Legal</th>\n",
       "      <th>department_Operations</th>\n",
       "      <th>department_Procurement</th>\n",
       "      <th>department_R&amp;D</th>\n",
       "      <th>department_Sales &amp; Marketing</th>\n",
       "      <th>department_Technology</th>\n",
       "      <th>gender_Male</th>\n",
       "      <th>recruitment_channel_referred</th>\n",
       "      <th>recruitment_channel_sourcing</th>\n",
       "    </tr>\n",
       "  </thead>\n",
       "  <tbody>\n",
       "    <tr>\n",
       "      <th>0</th>\n",
       "      <td>3</td>\n",
       "      <td>1</td>\n",
       "      <td>35</td>\n",
       "      <td>5.0</td>\n",
       "      <td>8</td>\n",
       "      <td>1</td>\n",
       "      <td>0</td>\n",
       "      <td>49</td>\n",
       "      <td>0</td>\n",
       "      <td>28 to 35</td>\n",
       "      <td>...</td>\n",
       "      <td>0</td>\n",
       "      <td>0</td>\n",
       "      <td>0</td>\n",
       "      <td>0</td>\n",
       "      <td>0</td>\n",
       "      <td>1</td>\n",
       "      <td>0</td>\n",
       "      <td>0</td>\n",
       "      <td>0</td>\n",
       "      <td>1</td>\n",
       "    </tr>\n",
       "    <tr>\n",
       "      <th>1</th>\n",
       "      <td>1</td>\n",
       "      <td>1</td>\n",
       "      <td>30</td>\n",
       "      <td>5.0</td>\n",
       "      <td>4</td>\n",
       "      <td>0</td>\n",
       "      <td>0</td>\n",
       "      <td>60</td>\n",
       "      <td>0</td>\n",
       "      <td>28 to 35</td>\n",
       "      <td>...</td>\n",
       "      <td>0</td>\n",
       "      <td>0</td>\n",
       "      <td>1</td>\n",
       "      <td>0</td>\n",
       "      <td>0</td>\n",
       "      <td>0</td>\n",
       "      <td>0</td>\n",
       "      <td>1</td>\n",
       "      <td>0</td>\n",
       "      <td>0</td>\n",
       "    </tr>\n",
       "    <tr>\n",
       "      <th>2</th>\n",
       "      <td>1</td>\n",
       "      <td>1</td>\n",
       "      <td>34</td>\n",
       "      <td>3.0</td>\n",
       "      <td>7</td>\n",
       "      <td>0</td>\n",
       "      <td>0</td>\n",
       "      <td>50</td>\n",
       "      <td>0</td>\n",
       "      <td>28 to 35</td>\n",
       "      <td>...</td>\n",
       "      <td>0</td>\n",
       "      <td>0</td>\n",
       "      <td>0</td>\n",
       "      <td>0</td>\n",
       "      <td>0</td>\n",
       "      <td>1</td>\n",
       "      <td>0</td>\n",
       "      <td>1</td>\n",
       "      <td>0</td>\n",
       "      <td>1</td>\n",
       "    </tr>\n",
       "    <tr>\n",
       "      <th>3</th>\n",
       "      <td>1</td>\n",
       "      <td>2</td>\n",
       "      <td>39</td>\n",
       "      <td>1.0</td>\n",
       "      <td>10</td>\n",
       "      <td>0</td>\n",
       "      <td>0</td>\n",
       "      <td>50</td>\n",
       "      <td>0</td>\n",
       "      <td>36 to 44</td>\n",
       "      <td>...</td>\n",
       "      <td>0</td>\n",
       "      <td>0</td>\n",
       "      <td>0</td>\n",
       "      <td>0</td>\n",
       "      <td>0</td>\n",
       "      <td>1</td>\n",
       "      <td>0</td>\n",
       "      <td>1</td>\n",
       "      <td>0</td>\n",
       "      <td>0</td>\n",
       "    </tr>\n",
       "    <tr>\n",
       "      <th>4</th>\n",
       "      <td>1</td>\n",
       "      <td>1</td>\n",
       "      <td>45</td>\n",
       "      <td>3.0</td>\n",
       "      <td>2</td>\n",
       "      <td>0</td>\n",
       "      <td>0</td>\n",
       "      <td>73</td>\n",
       "      <td>0</td>\n",
       "      <td>36 to 44</td>\n",
       "      <td>...</td>\n",
       "      <td>0</td>\n",
       "      <td>0</td>\n",
       "      <td>0</td>\n",
       "      <td>0</td>\n",
       "      <td>0</td>\n",
       "      <td>0</td>\n",
       "      <td>1</td>\n",
       "      <td>1</td>\n",
       "      <td>0</td>\n",
       "      <td>0</td>\n",
       "    </tr>\n",
       "  </tbody>\n",
       "</table>\n",
       "<p>5 rows × 24 columns</p>\n",
       "</div>"
      ],
      "text/plain": [
       "   education  no_of_trainings  age previous_year_rating  length_of_service  \\\n",
       "0          3                1   35                  5.0                  8   \n",
       "1          1                1   30                  5.0                  4   \n",
       "2          1                1   34                  3.0                  7   \n",
       "3          1                2   39                  1.0                 10   \n",
       "4          1                1   45                  3.0                  2   \n",
       "\n",
       "  KPIs_met >80% awards_won?  avg_training_score is_promoted Age Group  ...  \\\n",
       "0             1           0                  49           0  28 to 35  ...   \n",
       "1             0           0                  60           0  28 to 35  ...   \n",
       "2             0           0                  50           0  28 to 35  ...   \n",
       "3             0           0                  50           0  36 to 44  ...   \n",
       "4             0           0                  73           0  36 to 44  ...   \n",
       "\n",
       "   department_HR department_Legal  department_Operations  \\\n",
       "0              0                0                      0   \n",
       "1              0                0                      1   \n",
       "2              0                0                      0   \n",
       "3              0                0                      0   \n",
       "4              0                0                      0   \n",
       "\n",
       "   department_Procurement  department_R&D  department_Sales & Marketing  \\\n",
       "0                       0               0                             1   \n",
       "1                       0               0                             0   \n",
       "2                       0               0                             1   \n",
       "3                       0               0                             1   \n",
       "4                       0               0                             0   \n",
       "\n",
       "   department_Technology  gender_Male  recruitment_channel_referred  \\\n",
       "0                      0            0                             0   \n",
       "1                      0            1                             0   \n",
       "2                      0            1                             0   \n",
       "3                      0            1                             0   \n",
       "4                      1            1                             0   \n",
       "\n",
       "   recruitment_channel_sourcing  \n",
       "0                             1  \n",
       "1                             0  \n",
       "2                             1  \n",
       "3                             0  \n",
       "4                             0  \n",
       "\n",
       "[5 rows x 24 columns]"
      ]
     },
     "execution_count": 57,
     "metadata": {},
     "output_type": "execute_result"
    }
   ],
   "source": [
    "train.head()"
   ]
  },
  {
   "cell_type": "code",
   "execution_count": 58,
   "metadata": {},
   "outputs": [],
   "source": [
    "pd.set_option('display.max_columns', 500)"
   ]
  },
  {
   "cell_type": "code",
   "execution_count": 59,
   "metadata": {},
   "outputs": [],
   "source": [
    "X = train.iloc[:,[0,1,2,3,4,5,6,7,10,12,13,14,15,16,17,18,19,20,21,22,23]].values\n",
    "y = train.iloc[:,8].values"
   ]
  },
  {
   "cell_type": "code",
   "execution_count": 60,
   "metadata": {},
   "outputs": [],
   "source": [
    "features = [\"education\",\"no_of_trainings\",\"age\",\"previous_year_rating\",\"length_of_service\",\"KPIs_met >80%\",\"awards_won?\",\"avg_training_score\",\"joining age\",\"total_score\",\"department_Finance\",\"department_HR\",\"department_Legal\",\"department_Operations\",\"department_Procurement\",\"department_R&D\",\"department_Sales & Marketing\",\"department_Technology\",\"gender_Male\",\"recruitment_channel_referred\",\"recruitment_channel_sourcing\"]"
   ]
  },
  {
   "cell_type": "code",
   "execution_count": 61,
   "metadata": {},
   "outputs": [],
   "source": [
    "y = train['is_promoted'].astype('int')"
   ]
  },
  {
   "cell_type": "markdown",
   "metadata": {},
   "source": [
    "#### Scaling the continuous variables"
   ]
  },
  {
   "cell_type": "code",
   "execution_count": 62,
   "metadata": {},
   "outputs": [],
   "source": [
    "from sklearn.preprocessing import StandardScaler\n",
    "sc = StandardScaler()\n",
    "X = sc.fit_transform(X)"
   ]
  },
  {
   "cell_type": "markdown",
   "metadata": {},
   "source": [
    "#### Splitting into train and test sets"
   ]
  },
  {
   "cell_type": "code",
   "execution_count": 63,
   "metadata": {},
   "outputs": [],
   "source": [
    "from sklearn.model_selection import train_test_split\n",
    "X_train, X_test, y_train, y_test = train_test_split(X, y, test_size = 0.2)"
   ]
  },
  {
   "cell_type": "markdown",
   "metadata": {},
   "source": [
    "##### Fitting Logistic Regression model"
   ]
  },
  {
   "cell_type": "code",
   "execution_count": 64,
   "metadata": {},
   "outputs": [
    {
     "data": {
      "text/plain": [
       "LogisticRegression()"
      ]
     },
     "execution_count": 64,
     "metadata": {},
     "output_type": "execute_result"
    }
   ],
   "source": [
    "from sklearn.linear_model import LogisticRegression\n",
    "lr = LogisticRegression()\n",
    "lr.fit(X_train, y_train)"
   ]
  },
  {
   "cell_type": "markdown",
   "metadata": {},
   "source": [
    "#### Predicting the test set"
   ]
  },
  {
   "cell_type": "code",
   "execution_count": 65,
   "metadata": {},
   "outputs": [],
   "source": [
    "y_pred_lr = lr.predict(X_test)"
   ]
  },
  {
   "cell_type": "markdown",
   "metadata": {},
   "source": [
    "#### Confusion matrix and Classification Report"
   ]
  },
  {
   "cell_type": "code",
   "execution_count": 66,
   "metadata": {},
   "outputs": [
    {
     "name": "stdout",
     "output_type": "stream",
     "text": [
      "[[9926   40]\n",
      " [ 723  273]]\n",
      "              precision    recall  f1-score   support\n",
      "\n",
      "           0       0.93      1.00      0.96      9966\n",
      "           1       0.87      0.27      0.42       996\n",
      "\n",
      "    accuracy                           0.93     10962\n",
      "   macro avg       0.90      0.64      0.69     10962\n",
      "weighted avg       0.93      0.93      0.91     10962\n",
      "\n"
     ]
    }
   ],
   "source": [
    "from sklearn.metrics import confusion_matrix, classification_report\n",
    "cm = confusion_matrix(y_test, y_pred_lr)\n",
    "cr = classification_report(y_test, y_pred_lr)\n",
    "print(cm)\n",
    "print(cr)"
   ]
  },
  {
   "cell_type": "markdown",
   "metadata": {},
   "source": [
    "##### Here we can see that the recall value is less. That means that out of the total number of people promoted we predicted 26% of those. So if we use this model deserving people wont be promoted. One reason for this is that the dataset contains very few instances (8.5%) where employees were promoted. So, we will use SMOTE to duplicate the number of instances were people were promoted"
   ]
  },
  {
   "cell_type": "code",
   "execution_count": 67,
   "metadata": {},
   "outputs": [
    {
     "name": "stdout",
     "output_type": "stream",
     "text": [
      "Before OverSampling, the shape of X_train: (43846, 21)\n",
      "Before OverSampling, the shape of y_train: (43846,) \n",
      "\n"
     ]
    }
   ],
   "source": [
    "print('Before OverSampling, the shape of X_train: {}'.format(X_train.shape))\n",
    "print('Before OverSampling, the shape of y_train: {} \\n'.format(y_train.shape))"
   ]
  },
  {
   "cell_type": "code",
   "execution_count": 68,
   "metadata": {},
   "outputs": [
    {
     "name": "stdout",
     "output_type": "stream",
     "text": [
      "In the training set the number of employees promoted before oversampling: 3672\n",
      "In the training set the number of employees not promoted before oversampling: 40174 \n",
      "\n"
     ]
    }
   ],
   "source": [
    "print(\"In the training set the number of employees promoted before oversampling: {}\".format(sum(y_train == 1)))\n",
    "print(\"In the training set the number of employees not promoted before oversampling: {} \\n\".format(sum(y_train == 0)))"
   ]
  },
  {
   "cell_type": "markdown",
   "metadata": {},
   "source": [
    "#### Using SMOTE to oversample the minority cases"
   ]
  },
  {
   "cell_type": "code",
   "execution_count": 73,
   "metadata": {},
   "outputs": [],
   "source": [
    "from imblearn.over_sampling import SMOTE\n",
    "sm = SMOTE(random_state = 0)\n",
    "X_train_resampled, y_train_resampled = sm.fit_sample(X_train, y_train.ravel())"
   ]
  },
  {
   "cell_type": "code",
   "execution_count": 74,
   "metadata": {},
   "outputs": [
    {
     "name": "stdout",
     "output_type": "stream",
     "text": [
      "After OverSampling, the shape of X_train: (80348, 21)\n",
      "After OverSampling, the shape of y_train: (80348,) \n",
      "\n"
     ]
    }
   ],
   "source": [
    "print('After OverSampling, the shape of X_train: {}'.format(X_train_resampled.shape))\n",
    "print('After OverSampling, the shape of y_train: {} \\n'.format(y_train_resampled.shape))"
   ]
  },
  {
   "cell_type": "markdown",
   "metadata": {},
   "source": [
    "#### Here we can see that the number of rows in the training set has increased from 43946 to 80190 by duplicating the cases for the number of people promoted"
   ]
  },
  {
   "cell_type": "code",
   "execution_count": 75,
   "metadata": {},
   "outputs": [
    {
     "name": "stdout",
     "output_type": "stream",
     "text": [
      "In the training set the number of employees promoted after oversampling: 40174\n",
      "In the training set the number of employees not promoted after oversampling:  40174\n"
     ]
    }
   ],
   "source": [
    "print(\"In the training set the number of employees promoted after oversampling: {}\".format(sum(y_train_resampled == 1)))\n",
    "print(\"In the training set the number of employees not promoted after oversampling:  {}\".format(sum(y_train_resampled == 0)))"
   ]
  },
  {
   "cell_type": "markdown",
   "metadata": {},
   "source": [
    "#### Fitting the Logistic Regression model "
   ]
  },
  {
   "cell_type": "code",
   "execution_count": 77,
   "metadata": {},
   "outputs": [
    {
     "name": "stdout",
     "output_type": "stream",
     "text": [
      "[[7603 2363]\n",
      " [ 182  814]]\n",
      "              precision    recall  f1-score   support\n",
      "\n",
      "           0       0.98      0.76      0.86      9966\n",
      "           1       0.26      0.82      0.39       996\n",
      "\n",
      "    accuracy                           0.77     10962\n",
      "   macro avg       0.62      0.79      0.62     10962\n",
      "weighted avg       0.91      0.77      0.81     10962\n",
      "\n"
     ]
    }
   ],
   "source": [
    "from sklearn.linear_model import LogisticRegression\n",
    "lr = LogisticRegression()\n",
    "lr.fit(X_train_resampled, y_train_resampled)\n",
    "\n",
    "y_pred_lr = lr.predict(X_test)\n",
    "\n",
    "from sklearn.metrics import confusion_matrix, classification_report\n",
    "cm = confusion_matrix(y_test, y_pred_lr)\n",
    "cr = classification_report(y_test, y_pred_lr)\n",
    "print(cm)\n",
    "print(cr)"
   ]
  },
  {
   "cell_type": "code",
   "execution_count": 78,
   "metadata": {},
   "outputs": [
    {
     "data": {
      "text/plain": [
       "array([[0.76289384, 0.23710616],\n",
       "       [0.18273092, 0.81726908]])"
      ]
     },
     "execution_count": 78,
     "metadata": {},
     "output_type": "execute_result"
    }
   ],
   "source": [
    "cm = cm/cm.sum(axis = 1).reshape(-1,1)\n",
    "cm"
   ]
  },
  {
   "cell_type": "code",
   "execution_count": 79,
   "metadata": {},
   "outputs": [],
   "source": [
    "def confusion_matrix_plot(cm, classes = None, title = 'confusion matrix'):\n",
    "    if classes is not None:\n",
    "        sb.heatmap(cm, xticklabels = classes, yticklabels = classes, vmin = 0, vmax = 1, annot = True)\n",
    "    else:\n",
    "        sb.heatmap(cm, vmin = 0, vmax = 1)\n",
    "    plt.xlabel(\"True Label\")\n",
    "    plt.ylabel(\"Predicted Label\")\n",
    "    plt.title(\"Confusion Matrix\")"
   ]
  },
  {
   "cell_type": "code",
   "execution_count": 80,
   "metadata": {},
   "outputs": [
    {
     "data": {
      "image/png": "[encoded data removed]",
      "text/plain": [
       "<Figure size 432x288 with 2 Axes>"
      ]
     },
     "metadata": {
      "needs_background": "light"
     },
     "output_type": "display_data"
    }
   ],
   "source": [
    "confusion_matrix_plot(cm, classes = lr.classes_, title = 'confusion_matrix')"
   ]
  },
  {
   "cell_type": "markdown",
   "metadata": {},
   "source": [
    "#### Here we can see that the number of correct positive prediction have increased from 234 to 731. The recall value has increased from 0.26 to 0.8 which means our model is now predicting correctly the employees who should be promoted. But the accuracy of the model needs to be improved."
   ]
  },
  {
   "cell_type": "code",
   "execution_count": 81,
   "metadata": {
    "scrolled": false
   },
   "outputs": [
    {
     "name": "stdout",
     "output_type": "stream",
     "text": [
      "For threshold value of : 0.5\n",
      "The classification report for the threshold 0.5 is as follows: \n",
      "               precision    recall  f1-score   support\n",
      "\n",
      "           0       0.98      0.76      0.86      9966\n",
      "           1       0.26      0.82      0.39       996\n",
      "\n",
      "    accuracy                           0.77     10962\n",
      "   macro avg       0.62      0.79      0.62     10962\n",
      "weighted avg       0.91      0.77      0.81     10962\n",
      "\n",
      "For threshold value of : 0.55\n",
      "The classification report for the threshold 0.55 is as follows: \n",
      "               precision    recall  f1-score   support\n",
      "\n",
      "           0       0.97      0.79      0.87      9966\n",
      "           1       0.27      0.78      0.40       996\n",
      "\n",
      "    accuracy                           0.79     10962\n",
      "   macro avg       0.62      0.78      0.64     10962\n",
      "weighted avg       0.91      0.79      0.83     10962\n",
      "\n",
      "For threshold value of : 0.6\n",
      "The classification report for the threshold 0.6 is as follows: \n",
      "               precision    recall  f1-score   support\n",
      "\n",
      "           0       0.97      0.81      0.88      9966\n",
      "           1       0.28      0.74      0.40       996\n",
      "\n",
      "    accuracy                           0.80     10962\n",
      "   macro avg       0.62      0.77      0.64     10962\n",
      "weighted avg       0.91      0.80      0.84     10962\n",
      "\n",
      "For threshold value of : 0.65\n",
      "The classification report for the threshold 0.65 is as follows: \n",
      "               precision    recall  f1-score   support\n",
      "\n",
      "           0       0.96      0.84      0.90      9966\n",
      "           1       0.29      0.68      0.41       996\n",
      "\n",
      "    accuracy                           0.82     10962\n",
      "   macro avg       0.63      0.76      0.65     10962\n",
      "weighted avg       0.90      0.82      0.85     10962\n",
      "\n",
      "For threshold value of : 0.7\n",
      "The classification report for the threshold 0.7 is as follows: \n",
      "               precision    recall  f1-score   support\n",
      "\n",
      "           0       0.96      0.87      0.91      9966\n",
      "           1       0.31      0.60      0.41       996\n",
      "\n",
      "    accuracy                           0.84     10962\n",
      "   macro avg       0.64      0.74      0.66     10962\n",
      "weighted avg       0.90      0.84      0.87     10962\n",
      "\n",
      "For threshold value of : 0.75\n",
      "The classification report for the threshold 0.75 is as follows: \n",
      "               precision    recall  f1-score   support\n",
      "\n",
      "           0       0.95      0.89      0.92      9966\n",
      "           1       0.34      0.54      0.42       996\n",
      "\n",
      "    accuracy                           0.86     10962\n",
      "   macro avg       0.65      0.72      0.67     10962\n",
      "weighted avg       0.90      0.86      0.88     10962\n",
      "\n",
      "For threshold value of : 0.8\n",
      "The classification report for the threshold 0.8 is as follows: \n",
      "               precision    recall  f1-score   support\n",
      "\n",
      "           0       0.95      0.92      0.93      9966\n",
      "           1       0.38      0.47      0.42       996\n",
      "\n",
      "    accuracy                           0.88     10962\n",
      "   macro avg       0.66      0.70      0.68     10962\n",
      "weighted avg       0.89      0.88      0.89     10962\n",
      "\n",
      "For threshold value of : 0.85\n",
      "The classification report for the threshold 0.85 is as follows: \n",
      "               precision    recall  f1-score   support\n",
      "\n",
      "           0       0.94      0.95      0.94      9966\n",
      "           1       0.44      0.38      0.41       996\n",
      "\n",
      "    accuracy                           0.90     10962\n",
      "   macro avg       0.69      0.67      0.68     10962\n",
      "weighted avg       0.89      0.90      0.90     10962\n",
      "\n",
      "For threshold value of : 0.9\n",
      "The classification report for the threshold 0.9 is as follows: \n",
      "               precision    recall  f1-score   support\n",
      "\n",
      "           0       0.93      0.98      0.95      9966\n",
      "           1       0.57      0.29      0.38       996\n",
      "\n",
      "    accuracy                           0.92     10962\n",
      "   macro avg       0.75      0.63      0.67     10962\n",
      "weighted avg       0.90      0.92      0.90     10962\n",
      "\n",
      "For threshold value of : 0.95\n",
      "The classification report for the threshold 0.95 is as follows: \n",
      "               precision    recall  f1-score   support\n",
      "\n",
      "           0       0.93      1.00      0.96      9966\n",
      "           1       0.85      0.21      0.34       996\n",
      "\n",
      "    accuracy                           0.93     10962\n",
      "   macro avg       0.89      0.60      0.65     10962\n",
      "weighted avg       0.92      0.93      0.90     10962\n",
      "\n"
     ]
    }
   ],
   "source": [
    "thresholds = [0.5, 0.55, 0.6, 0.65, 0.7, 0.75, 0.8, 0.85, 0.9, 0.95]\n",
    "for i in thresholds:\n",
    "    print(\"For threshold value of : {}\".format(i))\n",
    "    y_pred_lr_opt = (lr.predict_proba(X_test)[:,1] >= i).astype(int)\n",
    "    print(\"The classification report for the threshold {} is as follows: \\n {}\".format(i, classification_report(y_test, y_pred_lr_opt)))"
   ]
  },
  {
   "cell_type": "markdown",
   "metadata": {},
   "source": [
    "#### Here we can see how with increasing the threshold the accuracy is increasing, but it in that process we are misclassifing employees who didnt get a promotion as employees who got promotion. So we have to look at the recall value as well as accuracy and find the optimal threshold value which is at the default value of 0.5"
   ]
  },
  {
   "cell_type": "markdown",
   "metadata": {},
   "source": [
    "#### Applying Support Vector Machine to the dataset"
   ]
  },
  {
   "cell_type": "code",
   "execution_count": 82,
   "metadata": {},
   "outputs": [],
   "source": [
    "from sklearn.svm import SVC"
   ]
  },
  {
   "cell_type": "code",
   "execution_count": 83,
   "metadata": {},
   "outputs": [
    {
     "data": {
      "text/plain": [
       "SVC()"
      ]
     },
     "execution_count": 83,
     "metadata": {},
     "output_type": "execute_result"
    }
   ],
   "source": [
    "svm = SVC()\n",
    "svm.fit(X_train_resampled, y_train_resampled)"
   ]
  },
  {
   "cell_type": "markdown",
   "metadata": {},
   "source": [
    "#### Predicting with test dataset"
   ]
  },
  {
   "cell_type": "code",
   "execution_count": 84,
   "metadata": {},
   "outputs": [],
   "source": [
    "y_pred_svm = svm.predict(X_test)"
   ]
  },
  {
   "cell_type": "markdown",
   "metadata": {},
   "source": [
    "#### Getting the accuracy of the predction"
   ]
  },
  {
   "cell_type": "code",
   "execution_count": 85,
   "metadata": {},
   "outputs": [
    {
     "name": "stdout",
     "output_type": "stream",
     "text": [
      "[[7252 2714]\n",
      " [ 128  868]]\n",
      "              precision    recall  f1-score   support\n",
      "\n",
      "           0       0.98      0.73      0.84      9966\n",
      "           1       0.24      0.87      0.38       996\n",
      "\n",
      "    accuracy                           0.74     10962\n",
      "   macro avg       0.61      0.80      0.61     10962\n",
      "weighted avg       0.92      0.74      0.79     10962\n",
      "\n"
     ]
    }
   ],
   "source": [
    "from sklearn.metrics import confusion_matrix, classification_report\n",
    "cm = confusion_matrix(y_test, y_pred_svm)\n",
    "cr = classification_report(y_test, y_pred_svm)\n",
    "print(cm)\n",
    "print(cr)"
   ]
  },
  {
   "cell_type": "code",
   "execution_count": 86,
   "metadata": {},
   "outputs": [
    {
     "data": {
      "text/plain": [
       "array([[0.72767409, 0.27232591],\n",
       "       [0.12851406, 0.87148594]])"
      ]
     },
     "execution_count": 86,
     "metadata": {},
     "output_type": "execute_result"
    }
   ],
   "source": [
    "cm = cm/cm.sum(axis = 1).reshape(-1,1)\n",
    "cm"
   ]
  },
  {
   "cell_type": "markdown",
   "metadata": {},
   "source": [
    "#### Plotting the confusion matrix"
   ]
  },
  {
   "cell_type": "code",
   "execution_count": 87,
   "metadata": {},
   "outputs": [
    {
     "data": {
      "image/png": "[encoded data removed]",
      "text/plain": [
       "<Figure size 432x288 with 2 Axes>"
      ]
     },
     "metadata": {
      "needs_background": "light"
     },
     "output_type": "display_data"
    }
   ],
   "source": [
    "confusion_matrix_plot(cm, classes = svm.classes_, title = 'confusion_matrix')"
   ]
  },
  {
   "cell_type": "markdown",
   "metadata": {},
   "source": [
    "#### This model is a better one at predicting the minority labels"
   ]
  },
  {
   "cell_type": "markdown",
   "metadata": {},
   "source": [
    "#### Applying K Nearest Neighbors to the dataset"
   ]
  },
  {
   "cell_type": "code",
   "execution_count": 88,
   "metadata": {},
   "outputs": [],
   "source": [
    "from sklearn.neighbors import KNeighborsClassifier"
   ]
  },
  {
   "cell_type": "code",
   "execution_count": 89,
   "metadata": {},
   "outputs": [
    {
     "data": {
      "text/plain": [
       "KNeighborsClassifier(n_neighbors=4)"
      ]
     },
     "execution_count": 89,
     "metadata": {},
     "output_type": "execute_result"
    }
   ],
   "source": [
    "knn = KNeighborsClassifier(n_neighbors = 4)\n",
    "knn.fit(X_train_resampled, y_train_resampled)"
   ]
  },
  {
   "cell_type": "markdown",
   "metadata": {},
   "source": [
    "#### Predicting with the test dataset"
   ]
  },
  {
   "cell_type": "code",
   "execution_count": 90,
   "metadata": {},
   "outputs": [],
   "source": [
    "y_pred_knn = knn.predict(X_test)"
   ]
  },
  {
   "cell_type": "markdown",
   "metadata": {},
   "source": [
    "#### Getting the accuracy of the prediction"
   ]
  },
  {
   "cell_type": "code",
   "execution_count": 91,
   "metadata": {},
   "outputs": [
    {
     "name": "stdout",
     "output_type": "stream",
     "text": [
      "              precision    recall  f1-score   support\n",
      "\n",
      "           0       0.95      0.88      0.92      9966\n",
      "           1       0.31      0.51      0.38       996\n",
      "\n",
      "    accuracy                           0.85     10962\n",
      "   macro avg       0.63      0.70      0.65     10962\n",
      "weighted avg       0.89      0.85      0.87     10962\n",
      "\n",
      "[[0.88460767 0.11539233]\n",
      " [0.48895582 0.51104418]]\n"
     ]
    }
   ],
   "source": [
    "from sklearn.metrics import confusion_matrix, classification_report\n",
    "cm = confusion_matrix(y_test, y_pred_knn)\n",
    "cr = classification_report(y_test, y_pred_knn)\n",
    "cm = cm/cm.sum(axis = 1).reshape(-1,1)\n",
    "print(cr)\n",
    "print(cm)"
   ]
  },
  {
   "cell_type": "code",
   "execution_count": 92,
   "metadata": {},
   "outputs": [
    {
     "data": {
      "image/png": "[encoded data removed]",
      "text/plain": [
       "<Figure size 432x288 with 2 Axes>"
      ]
     },
     "metadata": {
      "needs_background": "light"
     },
     "output_type": "display_data"
    }
   ],
   "source": [
    "confusion_matrix_plot(cm, classes = svm.classes_, title = 'confusion_matrix')"
   ]
  },
  {
   "cell_type": "markdown",
   "metadata": {},
   "source": [
    "#### The model is not doing a good job in predicting the promoted employees"
   ]
  },
  {
   "cell_type": "markdown",
   "metadata": {},
   "source": [
    "#### Applying Random Forest to the dataset"
   ]
  },
  {
   "cell_type": "code",
   "execution_count": 93,
   "metadata": {},
   "outputs": [
    {
     "data": {
      "text/plain": [
       "RandomForestClassifier()"
      ]
     },
     "execution_count": 93,
     "metadata": {},
     "output_type": "execute_result"
    }
   ],
   "source": [
    "from sklearn.ensemble import RandomForestClassifier\n",
    "rf = RandomForestClassifier()\n",
    "rf.fit(X_train_resampled, y_train_resampled)"
   ]
  },
  {
   "cell_type": "markdown",
   "metadata": {},
   "source": [
    "#### Predicting the results of the test set"
   ]
  },
  {
   "cell_type": "code",
   "execution_count": 94,
   "metadata": {},
   "outputs": [],
   "source": [
    "y_pred_rf = rf.predict(X_test)"
   ]
  },
  {
   "cell_type": "markdown",
   "metadata": {},
   "source": [
    "#### Getting the accuracies of the prediction"
   ]
  },
  {
   "cell_type": "code",
   "execution_count": 96,
   "metadata": {},
   "outputs": [
    {
     "name": "stdout",
     "output_type": "stream",
     "text": [
      "              precision    recall  f1-score   support\n",
      "\n",
      "           0       0.94      0.98      0.96      9966\n",
      "           1       0.64      0.41      0.50       996\n",
      "\n",
      "    accuracy                           0.93     10962\n",
      "   macro avg       0.79      0.69      0.73     10962\n",
      "weighted avg       0.92      0.93      0.92     10962\n",
      "\n",
      "[[0.97692153 0.02307847]\n",
      " [0.59036145 0.40963855]]\n"
     ]
    }
   ],
   "source": [
    "from sklearn.metrics import confusion_matrix, classification_report\n",
    "cm = confusion_matrix(y_test, y_pred_rf)\n",
    "cr = classification_report(y_test, y_pred_rf)\n",
    "cm = cm/cm.sum(axis = 1).reshape(-1,1)\n",
    "print(cr)\n",
    "print(cm)"
   ]
  },
  {
   "cell_type": "code",
   "execution_count": 97,
   "metadata": {},
   "outputs": [
    {
     "data": {
      "image/png": "[encoded data removed]",
      "text/plain": [
       "<Figure size 432x288 with 2 Axes>"
      ]
     },
     "metadata": {
      "needs_background": "light"
     },
     "output_type": "display_data"
    }
   ],
   "source": [
    "confusion_matrix_plot(cm, classes = svm.classes_, title = 'confusion_matrix')"
   ]
  },
  {
   "cell_type": "markdown",
   "metadata": {},
   "source": [
    "#### This model is also not doing good in predicting the promoted employees"
   ]
  },
  {
   "cell_type": "markdown",
   "metadata": {},
   "source": [
    "#### Building an artificial neural network"
   ]
  },
  {
   "cell_type": "markdown",
   "metadata": {},
   "source": [
    "#### Initializing the RNN"
   ]
  },
  {
   "cell_type": "code",
   "execution_count": 105,
   "metadata": {},
   "outputs": [],
   "source": [
    "import tensorflow as tf\n",
    "ann = tf.keras.models.Sequential()"
   ]
  },
  {
   "cell_type": "markdown",
   "metadata": {},
   "source": [
    "#### Adding the layers to the neural network"
   ]
  },
  {
   "cell_type": "code",
   "execution_count": 106,
   "metadata": {},
   "outputs": [],
   "source": [
    "ann.add(tf.keras.layers.Dense(units=6, activation='relu'))\n",
    "ann.add(tf.keras.layers.Dense(units=6, activation='relu'))\n",
    "ann.add(tf.keras.layers.Dense(units=6, activation='relu'))\n",
    "ann.add(tf.keras.layers.Dense(units=1, activation='sigmoid'))"
   ]
  },
  {
   "cell_type": "markdown",
   "metadata": {},
   "source": [
    "#### Compiling and Training the ANN"
   ]
  },
  {
   "cell_type": "code",
   "execution_count": 107,
   "metadata": {
    "scrolled": true
   },
   "outputs": [
    {
     "name": "stdout",
     "output_type": "stream",
     "text": [
      "WARNING:tensorflow:From C:\\Users\\Arnab\\Anaconda3\\lib\\site-packages\\tensorflow\\python\\ops\\resource_variable_ops.py:435: colocate_with (from tensorflow.python.framework.ops) is deprecated and will be removed in a future version.\n",
      "Instructions for updating:\n",
      "Colocations handled automatically by placer.\n",
      "WARNING:tensorflow:From C:\\Users\\Arnab\\Anaconda3\\lib\\site-packages\\tensorflow\\python\\ops\\math_ops.py:3066: to_int32 (from tensorflow.python.ops.math_ops) is deprecated and will be removed in a future version.\n",
      "Instructions for updating:\n",
      "Use tf.cast instead.\n",
      "Epoch 1/100\n",
      "80348/80348 [==============================] - 24s 303us/sample - loss: 0.4658 - acc: 0.7655\n",
      "Epoch 2/100\n",
      "80348/80348 [==============================] - 19s 232us/sample - loss: 0.3477 - acc: 0.8237\n",
      "Epoch 3/100\n",
      "80348/80348 [==============================] - ETA: 0s - loss: 0.3425 - acc: 0.826 - 22s 275us/sample - loss: 0.3425 - acc: 0.8265\n",
      "Epoch 4/100\n",
      "80348/80348 [==============================] - 22s 275us/sample - loss: 0.3399 - acc: 0.8276\n",
      "Epoch 5/100\n",
      "80348/80348 [==============================] - 21s 265us/sample - loss: 0.3376 - acc: 0.8290\n",
      "Epoch 6/100\n",
      "80348/80348 [==============================] - 20s 246us/sample - loss: 0.3359 - acc: 0.8293\n",
      "Epoch 7/100\n",
      "80348/80348 [==============================] - 21s 258us/sample - loss: 0.3350 - acc: 0.8293 - loss: 0. - ETA: 0s - loss: 0.3354 - acc: 0.82 - ETA: 0s - loss: 0.\n",
      "Epoch 8/100\n",
      "80348/80348 [==============================] - 22s 271us/sample - loss: 0.3343 - acc: 0.8296\n",
      "Epoch 9/100\n",
      "80348/80348 [==============================] - 20s 246us/sample - loss: 0.3335 - acc: 0.8294\n",
      "Epoch 10/100\n",
      "80348/80348 [==============================] - 21s 261us/sample - loss: 0.3328 - acc: 0.8297\n",
      "Epoch 11/100\n",
      "80348/80348 [==============================] - 20s 253us/sample - loss: 0.3324 - acc: 0.8293\n",
      "Epoch 12/100\n",
      "80348/80348 [==============================] - 21s 265us/sample - loss: 0.3320 - acc: 0.8307\n",
      "Epoch 13/100\n",
      "80348/80348 [==============================] - 21s 266us/sample - loss: 0.3318 - acc: 0.8309\n",
      "Epoch 14/100\n",
      "80348/80348 [==============================] - 21s 258us/sample - loss: 0.3312 - acc: 0.8307\n",
      "Epoch 15/100\n",
      "80348/80348 [==============================] - 21s 266us/sample - loss: 0.3312 - acc: 0.8306\n",
      "Epoch 16/100\n",
      "80348/80348 [==============================] - ETA: 0s - loss: 0.3304 - acc: 0.831 - 21s 262us/sample - loss: 0.3304 - acc: 0.8318\n",
      "Epoch 17/100\n",
      "80348/80348 [==============================] - 19s 239us/sample - loss: 0.3304 - acc: 0.8312\n",
      "Epoch 18/100\n",
      "80348/80348 [==============================] - 21s 258us/sample - loss: 0.3302 - acc: 0.8317\n",
      "Epoch 19/100\n",
      "80348/80348 [==============================] - 21s 260us/sample - loss: 0.3298 - acc: 0.8323\n",
      "Epoch 20/100\n",
      "80348/80348 [==============================] - 21s 258us/sample - loss: 0.3296 - acc: 0.8326 - loss: 0\n",
      "Epoch 21/100\n",
      "80348/80348 [==============================] - 19s 239us/sample - loss: 0.3289 - acc: 0.8324\n",
      "Epoch 22/100\n",
      "80348/80348 [==============================] - 21s 260us/sample - loss: 0.3287 - acc: 0.8328\n",
      "Epoch 23/100\n",
      "80348/80348 [==============================] - 20s 252us/sample - loss: 0.3283 - acc: 0.8326\n",
      "Epoch 24/100\n",
      "80348/80348 [==============================] - 21s 260us/sample - loss: 0.3281 - acc: 0.8329\n",
      "Epoch 25/100\n",
      "80348/80348 [==============================] - 20s 252us/sample - loss: 0.3279 - acc: 0.8332\n",
      "Epoch 26/100\n",
      "80348/80348 [==============================] - 21s 257us/sample - loss: 0.3277 - acc: 0.8337\n",
      "Epoch 27/100\n",
      "80348/80348 [==============================] - 21s 262us/sample - loss: 0.3277 - acc: 0.8327\n",
      "Epoch 28/100\n",
      "80348/80348 [==============================] - 20s 249us/sample - loss: 0.3275 - acc: 0.8333\n",
      "Epoch 29/100\n",
      "80348/80348 [==============================] - 20s 255us/sample - loss: 0.3274 - acc: 0.8331\n",
      "Epoch 30/100\n",
      "80348/80348 [==============================] - 21s 265us/sample - loss: 0.3273 - acc: 0.8334\n",
      "Epoch 31/100\n",
      "80348/80348 [==============================] - 21s 258us/sample - loss: 0.3271 - acc: 0.8333\n",
      "Epoch 32/100\n",
      "80348/80348 [==============================] - 20s 244us/sample - loss: 0.3272 - acc: 0.8328\n",
      "Epoch 33/100\n",
      "80348/80348 [==============================] - 21s 262us/sample - loss: 0.3271 - acc: 0.8326\n",
      "Epoch 34/100\n",
      "80348/80348 [==============================] - 21s 257us/sample - loss: 0.3267 - acc: 0.8330\n",
      "Epoch 35/100\n",
      "80348/80348 [==============================] - 19s 234us/sample - loss: 0.3269 - acc: 0.8335\n",
      "Epoch 36/100\n",
      "80348/80348 [==============================] - 21s 259us/sample - loss: 0.3271 - acc: 0.8329\n",
      "Epoch 37/100\n",
      "80348/80348 [==============================] - 21s 258us/sample - loss: 0.3266 - acc: 0.8330\n",
      "Epoch 38/100\n",
      "80348/80348 [==============================] - 21s 255us/sample - loss: 0.3269 - acc: 0.8339\n",
      "Epoch 39/100\n",
      "80348/80348 [==============================] - 21s 264us/sample - loss: 0.3265 - acc: 0.8338\n",
      "Epoch 40/100\n",
      "80348/80348 [==============================] - 22s 271us/sample - loss: 0.3266 - acc: 0.8333\n",
      "Epoch 41/100\n",
      "80348/80348 [==============================] - 21s 258us/sample - loss: 0.3270 - acc: 0.8333\n",
      "Epoch 42/100\n",
      "80348/80348 [==============================] - 20s 253us/sample - loss: 0.3265 - acc: 0.8336\n",
      "Epoch 43/100\n",
      "80348/80348 [==============================] - 21s 258us/sample - loss: 0.3264 - acc: 0.8334\n",
      "Epoch 44/100\n",
      "80348/80348 [==============================] - 21s 267us/sample - loss: 0.3265 - acc: 0.8339\n",
      "Epoch 45/100\n",
      "80348/80348 [==============================] - 19s 237us/sample - loss: 0.3264 - acc: 0.8334\n",
      "Epoch 46/100\n",
      "80348/80348 [==============================] - 21s 259us/sample - loss: 0.3264 - acc: 0.8340\n",
      "Epoch 47/100\n",
      "80348/80348 [==============================] - 21s 259us/sample - loss: 0.3264 - acc: 0.8334 - loss: 0.3\n",
      "Epoch 48/100\n",
      "80348/80348 [==============================] - ETA: 0s - loss: 0.3262 - acc: 0.834 - 20s 250us/sample - loss: 0.3262 - acc: 0.8342\n",
      "Epoch 49/100\n",
      "80348/80348 [==============================] - 21s 260us/sample - loss: 0.3259 - acc: 0.8344\n",
      "Epoch 50/100\n",
      "80348/80348 [==============================] - 21s 260us/sample - loss: 0.3264 - acc: 0.8337\n",
      "Epoch 51/100\n",
      "80348/80348 [==============================] - ETA: 0s - loss: 0.3261 - acc: 0.833 - 21s 257us/sample - loss: 0.3261 - acc: 0.8338\n",
      "Epoch 52/100\n",
      "80348/80348 [==============================] - 21s 261us/sample - loss: 0.3261 - acc: 0.8338\n",
      "Epoch 53/100\n",
      "80348/80348 [==============================] - 21s 255us/sample - loss: 0.3259 - acc: 0.8337\n",
      "Epoch 54/100\n",
      "80348/80348 [==============================] - 21s 262us/sample - loss: 0.3256 - acc: 0.8343\n",
      "Epoch 55/100\n",
      "80348/80348 [==============================] - 20s 254us/sample - loss: 0.3257 - acc: 0.8337\n",
      "Epoch 56/100\n",
      "80348/80348 [==============================] - 20s 249us/sample - loss: 0.3260 - acc: 0.8338\n",
      "Epoch 57/100\n",
      "80348/80348 [==============================] - 21s 256us/sample - loss: 0.3257 - acc: 0.8344\n",
      "Epoch 58/100\n",
      "80348/80348 [==============================] - 21s 266us/sample - loss: 0.3255 - acc: 0.8345\n",
      "Epoch 59/100\n",
      "80348/80348 [==============================] - 22s 269us/sample - loss: 0.3255 - acc: 0.8343\n",
      "Epoch 60/100\n",
      "80348/80348 [==============================] - 21s 263us/sample - loss: 0.3249 - acc: 0.8345\n",
      "Epoch 61/100\n",
      "80348/80348 [==============================] - 20s 253us/sample - loss: 0.3253 - acc: 0.8341 - loss:\n",
      "Epoch 62/100\n",
      "80348/80348 [==============================] - 20s 249us/sample - loss: 0.3252 - acc: 0.8342\n",
      "Epoch 63/100\n",
      "80348/80348 [==============================] - 19s 238us/sample - loss: 0.3249 - acc: 0.8348\n",
      "Epoch 64/100\n",
      "80348/80348 [==============================] - 19s 231us/sample - loss: 0.3253 - acc: 0.8345\n",
      "Epoch 65/100\n",
      "80348/80348 [==============================] - 20s 255us/sample - loss: 0.3251 - acc: 0.8349\n",
      "Epoch 66/100\n",
      "80348/80348 [==============================] - 17s 217us/sample - loss: 0.3248 - acc: 0.8347\n",
      "Epoch 67/100\n",
      "80348/80348 [==============================] - 20s 253us/sample - loss: 0.3249 - acc: 0.8348\n",
      "Epoch 68/100\n",
      "80348/80348 [==============================] - 20s 244us/sample - loss: 0.3248 - acc: 0.8345\n",
      "Epoch 69/100\n",
      "80348/80348 [==============================] - 17s 217us/sample - loss: 0.3247 - acc: 0.8350\n",
      "Epoch 70/100\n",
      "80348/80348 [==============================] - 21s 258us/sample - loss: 0.3246 - acc: 0.8345\n",
      "Epoch 71/100\n",
      "80348/80348 [==============================] - 18s 218us/sample - loss: 0.3246 - acc: 0.8352\n",
      "Epoch 72/100\n",
      "80348/80348 [==============================] - 18s 224us/sample - loss: 0.3246 - acc: 0.8347\n",
      "Epoch 73/100\n",
      "80348/80348 [==============================] - 21s 255us/sample - loss: 0.3240 - acc: 0.8353\n",
      "Epoch 74/100\n",
      "80348/80348 [==============================] - 18s 222us/sample - loss: 0.3241 - acc: 0.8351\n",
      "Epoch 75/100\n",
      "80348/80348 [==============================] - 21s 257us/sample - loss: 0.3241 - acc: 0.8354\n",
      "Epoch 76/100\n",
      "80348/80348 [==============================] - 18s 229us/sample - loss: 0.3240 - acc: 0.8357\n",
      "Epoch 77/100\n",
      "80348/80348 [==============================] - 21s 266us/sample - loss: 0.3241 - acc: 0.8350\n",
      "Epoch 78/100\n",
      "80348/80348 [==============================] - 19s 236us/sample - loss: 0.3239 - acc: 0.8354 - loss: 0.3239 - a\n",
      "Epoch 79/100\n",
      "80348/80348 [==============================] - 24s 298us/sample - loss: 0.3238 - acc: 0.8348 - loss: 0.3239 - acc: \n",
      "Epoch 80/100\n",
      "80348/80348 [==============================] - 21s 262us/sample - loss: 0.3238 - acc: 0.8355\n",
      "Epoch 81/100\n",
      "80348/80348 [==============================] - 21s 259us/sample - loss: 0.3237 - acc: 0.8347\n",
      "Epoch 82/100\n",
      "80348/80348 [==============================] - 21s 262us/sample - loss: 0.3239 - acc: 0.8350\n",
      "Epoch 83/100\n",
      "80348/80348 [==============================] - 18s 229us/sample - loss: 0.3234 - acc: 0.8352\n",
      "Epoch 84/100\n",
      "80348/80348 [==============================] - 21s 262us/sample - loss: 0.3235 - acc: 0.8350\n",
      "Epoch 85/100\n",
      "80348/80348 [==============================] - 18s 229us/sample - loss: 0.3235 - acc: 0.8354\n",
      "Epoch 86/100\n",
      "80348/80348 [==============================] - 21s 259us/sample - loss: 0.3232 - acc: 0.8352\n",
      "Epoch 87/100\n",
      "80348/80348 [==============================] - 19s 232us/sample - loss: 0.3234 - acc: 0.8352\n",
      "Epoch 88/100\n",
      "80348/80348 [==============================] - 21s 266us/sample - loss: 0.3230 - acc: 0.8353 - lo\n",
      "Epoch 89/100\n",
      "80348/80348 [==============================] - 21s 261us/sample - loss: 0.3231 - acc: 0.8355\n",
      "Epoch 90/100\n",
      "80348/80348 [==============================] - 19s 232us/sample - loss: 0.3231 - acc: 0.8346\n",
      "Epoch 91/100\n",
      "80348/80348 [==============================] - 21s 262us/sample - loss: 0.3231 - acc: 0.8344\n",
      "Epoch 92/100\n",
      "80348/80348 [==============================] - 22s 274us/sample - loss: 0.3230 - acc: 0.8352\n",
      "Epoch 93/100\n",
      "80348/80348 [==============================] - 21s 256us/sample - loss: 0.3228 - acc: 0.8357A: 1s - loss: 0.3233 - acc - ETA: 0s - loss:\n",
      "Epoch 94/100\n",
      "80348/80348 [==============================] - 21s 261us/sample - loss: 0.3228 - acc: 0.8356\n",
      "Epoch 95/100\n",
      "80348/80348 [==============================] - 21s 266us/sample - loss: 0.3228 - acc: 0.8349\n",
      "Epoch 96/100\n",
      "80348/80348 [==============================] - 19s 242us/sample - loss: 0.3227 - acc: 0.8354\n",
      "Epoch 97/100\n",
      "80348/80348 [==============================] - 19s 237us/sample - loss: 0.3228 - acc: 0.8349\n",
      "Epoch 98/100\n",
      "80348/80348 [==============================] - 18s 223us/sample - loss: 0.3227 - acc: 0.8357\n",
      "Epoch 99/100\n",
      "80348/80348 [==============================] - 21s 259us/sample - loss: 0.3225 - acc: 0.8354\n",
      "Epoch 100/100\n",
      "80348/80348 [==============================] - 18s 225us/sample - loss: 0.3225 - acc: 0.8359 - loss: 0.3226 - acc: \n"
     ]
    },
    {
     "data": {
      "text/plain": [
       "<tensorflow.python.keras.callbacks.History at 0x23aa90e6898>"
      ]
     },
     "execution_count": 107,
     "metadata": {},
     "output_type": "execute_result"
    }
   ],
   "source": [
    "ann.compile(optimizer = 'adam', loss = 'binary_crossentropy', metrics = ['accuracy'])\n",
    "\n",
    "ann.fit(X_train_resampled, y_train_resampled, batch_size = 32, epochs = 100)"
   ]
  },
  {
   "cell_type": "markdown",
   "metadata": {},
   "source": [
    "#### Predicting the Test set results"
   ]
  },
  {
   "cell_type": "code",
   "execution_count": 111,
   "metadata": {},
   "outputs": [],
   "source": [
    "y_pred = ann.predict(X_test)\n",
    "y_pred = (y_pred > 0.5)"
   ]
  },
  {
   "cell_type": "markdown",
   "metadata": {},
   "source": [
    "#### Getting the confusion matrix"
   ]
  },
  {
   "cell_type": "code",
   "execution_count": 122,
   "metadata": {},
   "outputs": [
    {
     "name": "stdout",
     "output_type": "stream",
     "text": [
      "[[7028 2938]\n",
      " [  72  924]]\n",
      "              precision    recall  f1-score   support\n",
      "\n",
      "           0       0.99      0.71      0.82      9966\n",
      "           1       0.24      0.93      0.38       996\n",
      "\n",
      "    accuracy                           0.73     10962\n",
      "   macro avg       0.61      0.82      0.60     10962\n",
      "weighted avg       0.92      0.73      0.78     10962\n",
      "\n"
     ]
    },
    {
     "data": {
      "text/plain": [
       "array([[0.70519767, 0.29480233],\n",
       "       [0.07228916, 0.92771084]])"
      ]
     },
     "execution_count": 122,
     "metadata": {},
     "output_type": "execute_result"
    }
   ],
   "source": [
    "from sklearn.metrics import confusion_matrix, accuracy_score\n",
    "cm = confusion_matrix(y_test, y_pred)\n",
    "cr = classification_report(y_test, y_pred)\n",
    "print(cm)\n",
    "print(cr)\n",
    "cm = cm/cm.sum(axis = 1).reshape(-1,1)\n",
    "cm"
   ]
  },
  {
   "cell_type": "markdown",
   "metadata": {},
   "source": [
    "#### Here we can see that the recall value is the highest among all the models"
   ]
  },
  {
   "cell_type": "markdown",
   "metadata": {},
   "source": [
    "#### Comparing the performance of the models"
   ]
  },
  {
   "cell_type": "code",
   "execution_count": 134,
   "metadata": {},
   "outputs": [
    {
     "data": {
      "text/html": [
       "<div>\n",
       "<style scoped>\n",
       "    .dataframe tbody tr th:only-of-type {\n",
       "        vertical-align: middle;\n",
       "    }\n",
       "\n",
       "    .dataframe tbody tr th {\n",
       "        vertical-align: top;\n",
       "    }\n",
       "\n",
       "    .dataframe thead th {\n",
       "        text-align: right;\n",
       "    }\n",
       "</style>\n",
       "<table border=\"1\" class=\"dataframe\">\n",
       "  <thead>\n",
       "    <tr style=\"text-align: right;\">\n",
       "      <th></th>\n",
       "      <th>Model</th>\n",
       "      <th>% of correct Not Promoted Predictions</th>\n",
       "      <th>% of correct Promoted Predictions</th>\n",
       "      <th>Accuracy of the model</th>\n",
       "    </tr>\n",
       "  </thead>\n",
       "  <tbody>\n",
       "    <tr>\n",
       "      <th>0</th>\n",
       "      <td>Logistic Regression</td>\n",
       "      <td>76</td>\n",
       "      <td>82</td>\n",
       "      <td>77</td>\n",
       "    </tr>\n",
       "    <tr>\n",
       "      <th>1</th>\n",
       "      <td>Support Vector Machine</td>\n",
       "      <td>72</td>\n",
       "      <td>87</td>\n",
       "      <td>74</td>\n",
       "    </tr>\n",
       "    <tr>\n",
       "      <th>2</th>\n",
       "      <td>K Nearest Neighbors</td>\n",
       "      <td>88</td>\n",
       "      <td>51</td>\n",
       "      <td>85</td>\n",
       "    </tr>\n",
       "    <tr>\n",
       "      <th>3</th>\n",
       "      <td>Random Foreset</td>\n",
       "      <td>97</td>\n",
       "      <td>40</td>\n",
       "      <td>93</td>\n",
       "    </tr>\n",
       "    <tr>\n",
       "      <th>4</th>\n",
       "      <td>Artificial Neural Network</td>\n",
       "      <td>70</td>\n",
       "      <td>92</td>\n",
       "      <td>73</td>\n",
       "    </tr>\n",
       "  </tbody>\n",
       "</table>\n",
       "</div>"
      ],
      "text/plain": [
       "                       Model  % of correct Not Promoted Predictions  \\\n",
       "0        Logistic Regression                                     76   \n",
       "1     Support Vector Machine                                     72   \n",
       "2        K Nearest Neighbors                                     88   \n",
       "3             Random Foreset                                     97   \n",
       "4  Artificial Neural Network                                     70   \n",
       "\n",
       "   % of correct Promoted Predictions  Accuracy of the model  \n",
       "0                                 82                     77  \n",
       "1                                 87                     74  \n",
       "2                                 51                     85  \n",
       "3                                 40                     93  \n",
       "4                                 92                     73  "
      ]
     },
     "execution_count": 134,
     "metadata": {},
     "output_type": "execute_result"
    }
   ],
   "source": [
    "models = [['Logistic Regression', 76, 82, 77], ['Support Vector Machine', 72, 87, 74], ['K Nearest Neighbors', 88, 51, 85], \n",
    "        ['Random Foreset', 97, 40, 93], ['Artificial Neural Network', 70, 92, 73]] \n",
    "\n",
    "accuracies = pd.DataFrame(models, columns = ['Model', '% of correct Not Promoted Predictions', '% of correct Promoted Predictions',\n",
    "                                            'Accuracy of the model']) \n",
    "  \n",
    "accuracies"
   ]
  },
  {
   "cell_type": "markdown",
   "metadata": {},
   "source": [
    "#### K Nearest Neighbor and Random Forest cannot be chosen because their coorect promoted predictions are very low, though their accuracies are high. Out of logistic regression, support vector machine and artificial neural network I would choose the Artificial Neural Network because it is predicting the promoted employees correctly."
   ]
  }
 ],
 "metadata": {
  "kernelspec": {
   "display_name": "Python 3",
   "language": "python",
   "name": "python3"
  },
  "language_info": {
   "codemirror_mode": {
    "name": "ipython",
    "version": 3
   },
   "file_extension": ".py",
   "mimetype": "text/x-python",
   "name": "python",
   "nbconvert_exporter": "python",
   "pygments_lexer": "ipython3",
   "version": "3.7.1"
  }
 },
 "nbformat": 4,
 "nbformat_minor": 2
}
